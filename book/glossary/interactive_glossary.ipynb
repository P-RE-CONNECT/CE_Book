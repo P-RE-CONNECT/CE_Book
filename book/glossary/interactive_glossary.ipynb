{
 "cells": [
  {
   "cell_type": "code",
   "execution_count": 1,
   "id": "203df05f",
   "metadata": {},
   "outputs": [],
   "source": [
    "from interactive_glossary import *"
   ]
  },
  {
   "cell_type": "markdown",
   "id": "64a9370b",
   "metadata": {},
   "source": [
    "# Greek glossary sheet"
   ]
  },
  {
   "cell_type": "code",
   "execution_count": 2,
   "id": "15ab6eba",
   "metadata": {},
   "outputs": [
    {
     "data": {
      "text/html": [
       "<h3>📚 Interactive Glossary of Greek Symbols</h3>"
      ],
      "text/plain": [
       "<IPython.core.display.HTML object>"
      ]
     },
     "metadata": {},
     "output_type": "display_data"
    },
    {
     "data": {
      "text/html": [
       "<p>Select one or more courses to filter the symbols and their meanings:</p>"
      ],
      "text/plain": [
       "<IPython.core.display.HTML object>"
      ]
     },
     "metadata": {},
     "output_type": "display_data"
    },
    {
     "data": {
      "application/vnd.jupyter.widget-view+json": {
       "model_id": "4a5f13f129334388937ef9731d711674",
       "version_major": 2,
       "version_minor": 0
      },
      "text/plain": [
       "interactive(children=(SelectMultiple(description='Courses:', index=(0,), layout=Layout(height='200px', width='…"
      ]
     },
     "metadata": {},
     "output_type": "display_data"
    }
   ],
   "source": [
    "interactive_glossary = Interactive_Glossary('Glossary_CT.xlsx')\n",
    "interactive_glossary.MultiCoursePlotly(sheet='Greek')"
   ]
  },
  {
   "cell_type": "markdown",
   "id": "5fffddaa",
   "metadata": {},
   "source": [
    "# Math operators glossary sheet"
   ]
  },
  {
   "cell_type": "code",
   "execution_count": 3,
   "id": "138ae997",
   "metadata": {},
   "outputs": [
    {
     "data": {
      "text/html": [
       "<h3>📚 Interactive Glossary of Math Operators</h3>"
      ],
      "text/plain": [
       "<IPython.core.display.HTML object>"
      ]
     },
     "metadata": {},
     "output_type": "display_data"
    },
    {
     "data": {
      "text/html": [
       "<p>Select one or more courses to filter the operators and their meanings:</p>"
      ],
      "text/plain": [
       "<IPython.core.display.HTML object>"
      ]
     },
     "metadata": {},
     "output_type": "display_data"
    },
    {
     "data": {
      "application/vnd.jupyter.widget-view+json": {
       "model_id": "5f9cb684df8a4392a8f1245c15cbbaeb",
       "version_major": 2,
       "version_minor": 0
      },
      "text/plain": [
       "interactive(children=(Output(),), _dom_classes=('widget-interact',))"
      ]
     },
     "metadata": {},
     "output_type": "display_data"
    }
   ],
   "source": [
    "interactive_glossary.MathOperatorsPlotly(option_search=False)"
   ]
  },
  {
   "cell_type": "markdown",
   "id": "7c1a576d",
   "metadata": {},
   "source": [
    "# Latin symbols glossary sheet"
   ]
  },
  {
   "cell_type": "code",
   "execution_count": 4,
   "id": "18a9e182",
   "metadata": {},
   "outputs": [
    {
     "data": {
      "text/html": [
       "<h3>📚 Interactive Glossary of Latin Symbols</h3>"
      ],
      "text/plain": [
       "<IPython.core.display.HTML object>"
      ]
     },
     "metadata": {},
     "output_type": "display_data"
    },
    {
     "data": {
      "text/html": [
       "<p>Select one or more courses to filter the symbols and their meanings:</p>"
      ],
      "text/plain": [
       "<IPython.core.display.HTML object>"
      ]
     },
     "metadata": {},
     "output_type": "display_data"
    },
    {
     "data": {
      "application/vnd.jupyter.widget-view+json": {
       "model_id": "2a98bfb30fa44604b8164dc865db64d7",
       "version_major": 2,
       "version_minor": 0
      },
      "text/plain": [
       "interactive(children=(SelectMultiple(description='Courses:', index=(0,), layout=Layout(height='200px', width='…"
      ]
     },
     "metadata": {},
     "output_type": "display_data"
    }
   ],
   "source": [
    "interactive_glossary.MultiCoursePlotly(sheet='Latin')"
   ]
  },
  {
   "cell_type": "code",
   "execution_count": null,
   "id": "4593d64a",
   "metadata": {},
   "outputs": [],
   "source": []
  }
 ],
 "metadata": {
  "kernelspec": {
   "display_name": "jupbook",
   "language": "python",
   "name": "python3"
  },
  "language_info": {
   "codemirror_mode": {
    "name": "ipython",
    "version": 3
   },
   "file_extension": ".py",
   "mimetype": "text/x-python",
   "name": "python",
   "nbconvert_exporter": "python",
   "pygments_lexer": "ipython3",
   "version": "3.13.2"
  }
 },
 "nbformat": 4,
 "nbformat_minor": 5
}
