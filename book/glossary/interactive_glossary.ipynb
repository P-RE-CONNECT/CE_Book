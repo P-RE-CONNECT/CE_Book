{
 "cells": [
  {
   "cell_type": "code",
   "execution_count": 2,
   "id": "203df05f",
   "metadata": {},
   "outputs": [],
   "source": [
    "import pandas as pd\n",
    "from ipywidgets import widgets, interact\n",
    "from IPython.display import display, HTML"
   ]
  },
  {
   "cell_type": "markdown",
   "id": "64a9370b",
   "metadata": {},
   "source": [
    "# Loading in excel file"
   ]
  },
  {
   "cell_type": "code",
   "execution_count": 4,
   "id": "bf95dffa",
   "metadata": {},
   "outputs": [],
   "source": [
    "# Load the glossary from xlsx\n",
    "glossary_CT_Greek = pd.read_excel(\"Glossary_CT.xlsx\", skiprows=1, index_col=0, sheet_name=0)\n",
    "glossary_CT_Math = pd.read_excel(\"Glossary_CT.xlsx\", skiprows=0, index_col=0, sheet_name=1)\n",
    "glossary_CT_Latin = pd.read_excel(\"Glossary_CT.xlsx\", skiprows=1, index_col=0, sheet_name=2)"
   ]
  },
  {
   "cell_type": "markdown",
   "id": "3d09f080",
   "metadata": {},
   "source": [
    "# Selection of one course with Plotly"
   ]
  },
  {
   "cell_type": "code",
   "execution_count": null,
   "id": "04d14288",
   "metadata": {
    "tags": [
     "remove-input"
    ]
   },
   "outputs": [
    {
     "data": {
      "text/html": [
       "<h3>📚 Interactive Glossary of Symbols and Course Descriptions</h3>"
      ],
      "text/plain": [
       "<IPython.core.display.HTML object>"
      ]
     },
     "metadata": {},
     "output_type": "display_data"
    },
    {
     "data": {
      "text/html": [
       "<p>Select a course to filter the symbols and their meanings for that specific course:</p>"
      ],
      "text/plain": [
       "<IPython.core.display.HTML object>"
      ]
     },
     "metadata": {},
     "output_type": "display_data"
    }
   ],
   "source": [
    "# Display styling\n",
    "display(HTML(\"<h3>📚 Interactive Glossary of Symbols and Course Descriptions</h3>\"))\n",
    "display(HTML(\"<p>Select a course to filter the symbols and their meanings for that specific course:</p>\"))\n",
    "\n",
    "# Create a dropdown for course selection\n",
    "courses = glossary_CT_Latin.columns\n",
    "dropdown = widgets.Dropdown(\n",
    "    options=['All'] + list(courses),\n",
    "    value='All',\n",
    "    description='Course:',\n",
    ")\n",
    "\n",
    "# Function to filter the DataFrame based on the dropdown selection\n",
    "def filter_glossary(course):\n",
    "    display(HTML(\"<h4>Filtered Glossary:</h4>\"))\n",
    "    if course == 'All':\n",
    "        display(glossary_CT_Latin.fillna(''))\n",
    "    else:\n",
    "        filtered_df = pd.DataFrame(glossary_CT_Latin[course].dropna())\n",
    "        display(filtered_df)\n",
    "\n",
    "# Link the dropdown to the filtering function\n",
    "interact(filter_glossary, course=dropdown);"
   ]
  },
  {
   "cell_type": "markdown",
   "id": "f8ad237e",
   "metadata": {},
   "source": [
    "# Selection of multiple courses with Plotly without 'All option'"
   ]
  },
  {
   "cell_type": "code",
   "execution_count": 4,
   "id": "aa68ef9d",
   "metadata": {},
   "outputs": [
    {
     "data": {
      "text/html": [
       "<h3>📚 Interactive Glossary of Symbols and Course Descriptions</h3>"
      ],
      "text/plain": [
       "<IPython.core.display.HTML object>"
      ]
     },
     "metadata": {},
     "output_type": "display_data"
    },
    {
     "data": {
      "text/html": [
       "<p>Select one or more courses to filter the symbols and their meanings:</p>"
      ],
      "text/plain": [
       "<IPython.core.display.HTML object>"
      ]
     },
     "metadata": {},
     "output_type": "display_data"
    },
    {
     "data": {
      "application/vnd.jupyter.widget-view+json": {
       "model_id": "201ff1ad98ae4d31aa5fa8a94e951771",
       "version_major": 2,
       "version_minor": 0
      },
      "text/plain": [
       "interactive(children=(SelectMultiple(description='Courses:', layout=Layout(height='200px', width='30%'), optio…"
      ]
     },
     "metadata": {},
     "output_type": "display_data"
    }
   ],
   "source": [
    "# Display styling\n",
    "display(HTML(\"<h3>📚 Interactive Glossary of Symbols and Course Descriptions</h3>\"))\n",
    "display(HTML(\"<p>Select one or more courses to filter the symbols and their meanings:</p>\"))\n",
    "\n",
    "# Create a multi-select widget for course selection\n",
    "courses = glossary_CT_Latin.columns\n",
    "multi_select = widgets.SelectMultiple(\n",
    "    options= list(courses),\n",
    "    value=[],\n",
    "    description='Courses:',\n",
    "    layout={'width': '30%', 'height': '200px'},\n",
    ")\n",
    "\n",
    "# Function to filter the DataFrame based on the dropdown selection\n",
    "def filter_glossary(selected_courses):\n",
    "    display(HTML(\"<h4>Filtered Glossary:</h4>\"))\n",
    "    \n",
    "    if not selected_courses:\n",
    "        display(HTML(\"<p>No courses selected.</p>\"))\n",
    "        return\n",
    "    \n",
    "    # Collect all symbols and descriptions from the selected courses\n",
    "    courses = []\n",
    "    for i in range(len(selected_courses)):\n",
    "        courses.append(str(selected_courses[i]))\n",
    "    result_df = glossary_CT_Latin[courses].dropna(how='all').fillna('')\n",
    "    display(result_df)\n",
    "\n",
    "# Link the multi-select to the filtering function\n",
    "interact(filter_glossary, selected_courses=multi_select);"
   ]
  },
  {
   "cell_type": "markdown",
   "id": "bc4e6ca0",
   "metadata": {},
   "source": [
    "# Selection of multiple courses with Plotly with 'All option'"
   ]
  },
  {
   "cell_type": "code",
   "execution_count": 5,
   "id": "6f80c8bd",
   "metadata": {},
   "outputs": [
    {
     "data": {
      "text/html": [
       "<h3>📚 Interactive Glossary of Symbols and Course Descriptions</h3>"
      ],
      "text/plain": [
       "<IPython.core.display.HTML object>"
      ]
     },
     "metadata": {},
     "output_type": "display_data"
    },
    {
     "data": {
      "text/html": [
       "<p>Select one or more courses to filter the symbols and their meanings:</p>"
      ],
      "text/plain": [
       "<IPython.core.display.HTML object>"
      ]
     },
     "metadata": {},
     "output_type": "display_data"
    },
    {
     "data": {
      "application/vnd.jupyter.widget-view+json": {
       "model_id": "a5013a143dde4738b8d927cb731c55c9",
       "version_major": 2,
       "version_minor": 0
      },
      "text/plain": [
       "interactive(children=(SelectMultiple(description='Courses:', index=(0,), layout=Layout(height='200px', width='…"
      ]
     },
     "metadata": {},
     "output_type": "display_data"
    }
   ],
   "source": [
    "# Display styling\n",
    "display(HTML(\"<h3>📚 Interactive Glossary of Symbols and Course Descriptions</h3>\"))\n",
    "display(HTML(\"<p>Select one or more courses to filter the symbols and their meanings:</p>\"))\n",
    "\n",
    "# Create a multi-select widget for course selection (with \"All\" added)\n",
    "courses = list(glossary_CT_Latin.columns)\n",
    "multi_select = widgets.SelectMultiple(\n",
    "    options=[\"All\"] + courses,  # Add \"All\" as an option\n",
    "    value=[\"All\"],\n",
    "    description='Courses:',\n",
    "    layout={'width': '30%', 'height': '200px'},\n",
    ")\n",
    "\n",
    "# Function to filter the DataFrame based on the dropdown selection\n",
    "def filter_glossary(selected_courses):\n",
    "    display(HTML(\"<h4>Filtered Glossary:</h4>\"))\n",
    "    \n",
    "    if not selected_courses:\n",
    "        display(HTML(\"<p>No courses selected.</p>\"))\n",
    "        return\n",
    "    \n",
    "    if \"All\" in selected_courses:\n",
    "        # If \"All\" is selected, show the full glossary\n",
    "        display(glossary_CT_Latin.dropna(how='all').fillna(''))\n",
    "    else:\n",
    "        # Collect all symbols and descriptions from the selected courses\n",
    "        courses = []\n",
    "        for i in range(len(selected_courses)):\n",
    "            courses.append(str(selected_courses[i]))\n",
    "        result_df = glossary_CT_Latin[courses].dropna(how='all').fillna('')\n",
    "        display(result_df)\n",
    "\n",
    "# Link the multi-select to the filtering function\n",
    "interact(filter_glossary, selected_courses=multi_select);"
   ]
  },
  {
   "cell_type": "markdown",
   "id": "4dc66ae4",
   "metadata": {},
   "source": [
    "# Selection of multiple courses with Plotly with 'All option' and search option"
   ]
  },
  {
   "cell_type": "code",
   "execution_count": 6,
   "id": "180750d3",
   "metadata": {},
   "outputs": [
    {
     "data": {
      "text/html": [
       "<h3>📚 Interactive Glossary of Symbols and Course Descriptions</h3>"
      ],
      "text/plain": [
       "<IPython.core.display.HTML object>"
      ]
     },
     "metadata": {},
     "output_type": "display_data"
    },
    {
     "data": {
      "text/html": [
       "<p>Select one or more courses to filter the symbols and their meanings:</p>"
      ],
      "text/plain": [
       "<IPython.core.display.HTML object>"
      ]
     },
     "metadata": {},
     "output_type": "display_data"
    },
    {
     "data": {
      "application/vnd.jupyter.widget-view+json": {
       "model_id": "cf19263c2c1d4eefb89a5546f2b630cc",
       "version_major": 2,
       "version_minor": 0
      },
      "text/plain": [
       "interactive(children=(SelectMultiple(description='Courses:', index=(0,), layout=Layout(height='200px', width='…"
      ]
     },
     "metadata": {},
     "output_type": "display_data"
    }
   ],
   "source": [
    "# Display styling\n",
    "display(HTML(\"<h3>📚 Interactive Glossary of Symbols and Course Descriptions</h3>\"))\n",
    "display(HTML(\"<p>Select one or more courses to filter the symbols and their meanings:</p>\"))\n",
    "\n",
    "# Create a multi-select widget for course selection (with \"All\" added)\n",
    "courses = list(glossary_CT_Latin.columns)\n",
    "multi_select = widgets.SelectMultiple(\n",
    "    options=[\"All\"] + courses,  # Add \"All\" as an option\n",
    "    value=[\"All\"],\n",
    "    description='Courses:',\n",
    "    layout={'width': '30%', 'height': '200px'},\n",
    ")\n",
    "\n",
    "# Create a text input for search\n",
    "search_input = widgets.Text(\n",
    "    value='',\n",
    "    placeholder='Search symbol or description...',\n",
    "    description='Search:',\n",
    "    layout={'width': '30%'}\n",
    ")\n",
    "\n",
    "# Function to filter the DataFrame based on dropdown and search\n",
    "def filter_glossary(selected_courses, search_term):\n",
    "    display(HTML(\"<h4>Filtered Glossary:</h4>\"))\n",
    "    \n",
    "    if not selected_courses:\n",
    "        display(HTML(\"<p>No courses selected.</p>\"))\n",
    "        return\n",
    "    \n",
    "    # Handle \"All\" selection logic\n",
    "    if \"All\" in selected_courses:\n",
    "        filtered_df = glossary_CT_Latin.dropna(how='all').fillna('')\n",
    "    else:\n",
    "        # Collect all symbols and descriptions from the selected courses\n",
    "        courses = [str(course) for course in selected_courses]\n",
    "        filtered_df = glossary_CT_Latin[courses].dropna(how='all').fillna('')\n",
    "\n",
    "    # Apply search filter if search term is entered\n",
    "    if search_term:\n",
    "        # Search across all columns\n",
    "        filtered_df = filtered_df[filtered_df.apply(lambda row: row.astype(str).str.contains(search_term, case=False).any(), axis=1)]\n",
    "    \n",
    "    # Display the filtered DataFrame\n",
    "    display(filtered_df)\n",
    "\n",
    "# Link the widgets to the filtering function\n",
    "interact(filter_glossary, selected_courses=multi_select, search_term=search_input);\n"
   ]
  },
  {
   "cell_type": "code",
   "execution_count": null,
   "id": "7af238a0",
   "metadata": {},
   "outputs": [],
   "source": []
  }
 ],
 "metadata": {
  "kernelspec": {
   "display_name": "teachbooks",
   "language": "python",
   "name": "python3"
  },
  "language_info": {
   "codemirror_mode": {
    "name": "ipython",
    "version": 3
   },
   "file_extension": ".py",
   "mimetype": "text/x-python",
   "name": "python",
   "nbconvert_exporter": "python",
   "pygments_lexer": "ipython3",
   "version": "3.13.3"
  }
 },
 "nbformat": 4,
 "nbformat_minor": 5
}
