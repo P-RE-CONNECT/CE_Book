{
 "cells": [
  {
   "cell_type": "markdown",
   "id": "3d09f080",
   "metadata": {},
   "source": [
    "# Selection of one course with Plotly"
   ]
  },
  {
   "cell_type": "code",
   "execution_count": 1,
   "id": "04d14288",
   "metadata": {
    "tags": [
     "remove-input"
    ]
   },
   "outputs": [
    {
     "data": {
      "text/html": [
       "<h3>📚 Interactive Glossary of Symbols and Course Descriptions</h3>"
      ],
      "text/plain": [
       "<IPython.core.display.HTML object>"
      ]
     },
     "metadata": {},
     "output_type": "display_data"
    },
    {
     "data": {
      "text/html": [
       "<p>Select a course to filter the symbols and their meanings for that specific course:</p>"
      ],
      "text/plain": [
       "<IPython.core.display.HTML object>"
      ]
     },
     "metadata": {},
     "output_type": "display_data"
    },
    {
     "data": {
      "application/vnd.jupyter.widget-view+json": {
       "model_id": "6a2d00cef26f4c9295fd4bac61f122cf",
       "version_major": 2,
       "version_minor": 0
      },
      "text/plain": [
       "interactive(children=(Dropdown(description='Course:', options=('All', 'Course 1', 'Course 2'), value='All'), O…"
      ]
     },
     "metadata": {},
     "output_type": "display_data"
    }
   ],
   "source": [
    "# Interactive Glossary for Jupyter Book with Course-based Descriptions\n",
    "import pandas as pd\n",
    "from ipywidgets import widgets, interact\n",
    "from IPython.display import display, HTML\n",
    "\n",
    "# Load the glossary from CSV\n",
    "glossary_df = pd.read_csv(\"Glossary_CT.csv\", index_col=0)\n",
    "\n",
    "# Display styling\n",
    "display(HTML(\"<h3>📚 Interactive Glossary of Symbols and Course Descriptions</h3>\"))\n",
    "display(HTML(\"<p>Select a course to filter the symbols and their meanings for that specific course:</p>\"))\n",
    "\n",
    "# Create a dropdown for course selection\n",
    "courses = glossary_df.columns\n",
    "dropdown = widgets.Dropdown(\n",
    "    options=['All'] + list(courses),\n",
    "    value='All',\n",
    "    description='Course:',\n",
    ")\n",
    "\n",
    "# Function to filter the DataFrame based on the dropdown selection\n",
    "def filter_glossary(course):\n",
    "    display(HTML(\"<h4>Filtered Glossary:</h4>\"))\n",
    "    if course == 'All':\n",
    "        display(glossary_df.fillna(''))\n",
    "    else:\n",
    "        filtered_df = pd.DataFrame(glossary_df[course].dropna())\n",
    "        display(filtered_df)\n",
    "\n",
    "# Link the dropdown to the filtering function\n",
    "interact(filter_glossary, course=dropdown);"
   ]
  },
  {
   "cell_type": "markdown",
   "id": "bc4e6ca0",
   "metadata": {},
   "source": [
    "# Selection of multiple courses with Plotly"
   ]
  },
  {
   "cell_type": "code",
   "execution_count": 2,
   "id": "4fc607ba",
   "metadata": {},
   "outputs": [
    {
     "data": {
      "text/html": [
       "<h3>📚 Interactive Glossary of Symbols and Course Descriptions</h3>"
      ],
      "text/plain": [
       "<IPython.core.display.HTML object>"
      ]
     },
     "metadata": {},
     "output_type": "display_data"
    },
    {
     "data": {
      "text/html": [
       "<p>Select one or more courses to filter the symbols and their meanings:</p>"
      ],
      "text/plain": [
       "<IPython.core.display.HTML object>"
      ]
     },
     "metadata": {},
     "output_type": "display_data"
    },
    {
     "data": {
      "application/vnd.jupyter.widget-view+json": {
       "model_id": "b771da7a411a43dc857cb801561b4b8b",
       "version_major": 2,
       "version_minor": 0
      },
      "text/plain": [
       "interactive(children=(SelectMultiple(description='Courses:', layout=Layout(width='30%'), options=('Course 1', …"
      ]
     },
     "metadata": {},
     "output_type": "display_data"
    }
   ],
   "source": [
    "# Interactive Glossary for Jupyter Book with Multi-Course Selection\n",
    "import pandas as pd\n",
    "from ipywidgets import widgets, interact\n",
    "from IPython.display import display, HTML\n",
    "\n",
    "# Load the glossary from CSV\n",
    "glossary_df = pd.read_csv(\"Glossary_CT.csv\", index_col=0)\n",
    "\n",
    "# Display styling\n",
    "display(HTML(\"<h3>📚 Interactive Glossary of Symbols and Course Descriptions</h3>\"))\n",
    "display(HTML(\"<p>Select one or more courses to filter the symbols and their meanings:</p>\"))\n",
    "\n",
    "# Create a multi-select widget for course selection\n",
    "courses = glossary_df.columns\n",
    "multi_select = widgets.SelectMultiple(\n",
    "    options=list(courses),\n",
    "    value=[],\n",
    "    description='Courses:',\n",
    "    layout={'width': '30%'},\n",
    ")\n",
    "\n",
    "# Function to filter the DataFrame based on the dropdown selection\n",
    "def filter_glossary(selected_courses):\n",
    "    display(HTML(\"<h4>Filtered Glossary:</h4>\"))\n",
    "    \n",
    "    if not selected_courses:\n",
    "        display(HTML(\"<p>No courses selected.</p>\"))\n",
    "        return\n",
    "    \n",
    "    # Collect all symbols and descriptions from the selected courses\n",
    "    filtered_dfs = []\n",
    "    for course in selected_courses:\n",
    "        filtered_df = pd.DataFrame(glossary_df[course].dropna())\n",
    "        filtered_df.columns = [f'{course} Description']\n",
    "        filtered_dfs.append(filtered_df)\n",
    "    \n",
    "    # Merge all selected courses into one table\n",
    "    result_df = pd.concat(filtered_dfs, axis=1).fillna('')\n",
    "    display(result_df)\n",
    "\n",
    "# Link the multi-select to the filtering function\n",
    "interact(filter_glossary, selected_courses=multi_select);\n"
   ]
  },
  {
   "cell_type": "code",
   "execution_count": null,
   "id": "0584ac4c",
   "metadata": {},
   "outputs": [],
   "source": []
  }
 ],
 "metadata": {
  "kernelspec": {
   "display_name": "jupbook",
   "language": "python",
   "name": "python3"
  },
  "language_info": {
   "codemirror_mode": {
    "name": "ipython",
    "version": 3
   },
   "file_extension": ".py",
   "mimetype": "text/x-python",
   "name": "python",
   "nbconvert_exporter": "python",
   "pygments_lexer": "ipython3",
   "version": "3.13.2"
  }
 },
 "nbformat": 4,
 "nbformat_minor": 5
}
