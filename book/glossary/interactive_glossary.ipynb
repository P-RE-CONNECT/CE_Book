{
 "cells": [
  {
   "cell_type": "markdown",
   "id": "6b40d10e",
   "metadata": {},
   "source": [
    "(content:interactieve_glossary)=\n",
    "# 📚 Interactieve Glossary\n",
    "Deze pagina bevat een weergave van de interactieve glossary voor de bacheloropleiding Civiele Techniek aan de Technische Universiteit Delft. Hier vind je de betekenis van symbolen die vaak voorkomen in de verschillende vakken.\n",
    "\n",
    "**Hoe gebruik je de Glossary?**\n",
    "\n",
    "*Algemeen*\n",
    "- Elke glossary is apart weergegeven op deze pagina.\n",
    "- Je kunt eenvoudig zoeken naar een symbool of betekenis met de zoekbalk bij elke glossary.\n",
    "\n",
    "*Griekse en Latijnse Glossary*\n",
    "- **Vak selecteren:** Kies één of meerdere vakken in het selectievak om alleen de symbolen te zien die in die vak(ken) gebruikt worden (je kan meerdere vakken kiezen door de `ctrl` of `command` toets in the drukken en meerdere vakken te selecteren).\n",
    "- **Zoeken:** Gebruik de zoekbalk om te zoeken op symbool of beschrijving. Het filter werkt direct terwijl je typt.\n",
    "\n",
    "*Wiskunde Glossary*\n",
    "- Deze glossary bevat enkel een zoekbalk.\n",
    "- Voer een symbool of betekenis in om direct te filteren op resultaten.\n",
    "\n",
    "**Extra tips**\n",
    "- De symbolen worden weergegeven met hun wiskundige notatie; houd er rekening mee dat sommige symbolen op meerdere manieren gebruikt kunnen worden.\n",
    "- Wanneer je niets invult in de zoekbalk, worden alle symbolen getoond voor de geselecteerde vakken."
   ]
  },
  {
   "cell_type": "markdown",
   "id": "64a9370b",
   "metadata": {},
   "source": [
    "## Greek glossary sheet"
   ]
  },
  {
   "cell_type": "markdown",
   "id": "ff0d661f",
   "metadata": {},
   "source": [
    "<iframe src=\"../_static/glossary_greek.html\" width=\"100%\" frameborder=\"0\" scrolling=\"no\" class=\"greek-glossary-iframe\" data-glossary=\"greek\"></iframe>\n",
    "<script>\n",
    "window.addEventListener('message', function(event) {\n",
    "  if (event.data.type === 'setHeight' && event.data.glossaryId) {\n",
    "    const iframe = document.querySelector('iframe[data-glossary=\"' + event.data.glossaryId + '\"]');\n",
    "    if (iframe) {\n",
    "      iframe.style.height = event.data.height + 'px';\n",
    "    }\n",
    "  }\n",
    "});\n",
    "</script>"
   ]
  },
  {
   "cell_type": "markdown",
   "id": "5fffddaa",
   "metadata": {},
   "source": [
    "## Math operators glossary sheet"
   ]
  },
  {
   "cell_type": "markdown",
   "id": "26d2a3fb",
   "metadata": {},
   "source": [
    "<iframe src=\"../_static/glossary_math.html\" width=\"100%\" frameborder=\"0\" scrolling=\"no\" data-glossary=\"math\"></iframe>"
   ]
  },
  {
   "cell_type": "markdown",
   "id": "7c1a576d",
   "metadata": {},
   "source": [
    "## Latin symbols glossary sheet"
   ]
  },
  {
   "cell_type": "markdown",
   "id": "a08d6650",
   "metadata": {},
   "source": [
    "<iframe src=\"../_static/glossary_latin.html\" width=\"100%\" frameborder=\"0\" scrolling=\"no\" class=\"latin-glossary-iframe\" data-glossary=\"latin\"></iframe>\n",
    "<script>\n",
    "window.addEventListener('message', function(event) {\n",
    "  if (event.data.type === 'setHeight' && event.data.glossaryId) {\n",
    "    const iframe = document.querySelector('iframe[data-glossary=\"' + event.data.glossaryId + '\"]');\n",
    "    if (iframe) {\n",
    "      iframe.style.height = event.data.height + 'px';\n",
    "    }\n",
    "  }\n",
    "});\n",
    "</script>"
   ]
  },
  {
   "cell_type": "markdown",
   "id": "69392e8a",
   "metadata": {},
   "source": [
    "# Math notation examples"
   ]
  },
  {
   "cell_type": "markdown",
   "id": "346b8ae3",
   "metadata": {},
   "source": [
    "**Difference between $d$ and $\\partial$**:\n",
    "\n",
    "$$\n",
    "\\vec{a} = \\frac{d\\vec{v}}{dt} = \\frac{\\partial\\vec{v}}{\\partial t} + \\Big(v_x \\frac{\\partial}{\\partial x} + v_y \\frac{\\partial}{\\partial y} + v_z \\frac{\\partial}{\\partial z} \\Big) \\cdot \\vec{v}\n",
    "$$\n",
    "\n",
    "**Kronecker/Dirac delta**:\n",
    "\n",
    "$$\n",
    "\\delta_{ij} = \\begin{cases}\n",
    "1 & 1, \\quad i = j\\\\\n",
    "2 & 0, \\quad i \\neq j\n",
    "\\end{cases}\n",
    "$$\n",
    "\n",
    "**Conditional probability**:\n",
    "\n",
    "$$\n",
    "P(A|C) = \\frac{P(A\\cap C)}{P(C)} \\quad \\text{for} \\quad P(C) > 0\n",
    "$$\n",
    "\n",
    "**Mass moment of inertia of square surface area**:\n",
    "\n",
    "$$\n",
    "I = \\frac{1}{12} b h^3\n",
    "$$"
   ]
  },
  {
   "cell_type": "markdown",
   "id": "eacda49f",
   "metadata": {
    "tags": [
     "remove-cell"
    ]
   },
   "source": [
    "## How to convert csv glossary into HTML glossary\n",
    "\n",
    "Run the code below with your own `.csv` file. Copy the output of the print into the `const glossaryData = {` and everything should work!"
   ]
  },
  {
   "cell_type": "code",
   "execution_count": null,
   "id": "532902fc",
   "metadata": {
    "tags": [
     "remove-cell"
    ]
   },
   "outputs": [],
   "source": [
    "import pandas as pd"
   ]
  },
  {
   "cell_type": "code",
   "execution_count": 13,
   "id": "37e28b63",
   "metadata": {
    "tags": [
     "remove-cell"
    ]
   },
   "outputs": [],
   "source": [
    "df = pd.read_csv('Glossary_CT_Math.csv', skiprows=2, index_col=[0,1])"
   ]
  },
  {
   "cell_type": "code",
   "execution_count": null,
   "id": "3e2ba29c",
   "metadata": {
    "tags": [
     "remove-cell"
    ]
   },
   "outputs": [
    {
     "name": "stdout",
     "output_type": "stream",
     "text": [
      "[{\"$\\\\Sigma$\":\"$\\\\prod$\",\"Sigma\":\"-\",\"Sum\":\"Product operator\"},{\"$\\\\Sigma$\":\"$\\\\mathbb{N}$\",\"Sigma\":\"-\",\"Sum\":\"Natural numbers = {1, 2, 3, \\u2026}\"},{\"$\\\\Sigma$\":\"$\\\\mathbb{Z}$\",\"Sigma\":\"-\",\"Sum\":\"Integers = {\\u2026, -1, 0, 1, \\u2026}\"},{\"$\\\\Sigma$\":\"$\\\\mathbb{Q}$\",\"Sigma\":\"-\",\"Sum\":\"Rational numbers = {p\\/q ; p and q are integers}\"},{\"$\\\\Sigma$\":\"$\\\\mathbb{I}$\",\"Sigma\":\"-\",\"Sum\":\"Irrational numbers = {non-rational numbers; $\\\\sqrt{2}$}\"},{\"$\\\\Sigma$\":\"$\\\\mathbb{R}$\",\"Sigma\":\"-\",\"Sum\":\"Real numbers = {All of the above sets}\"},{\"$\\\\Sigma$\":\"$\\\\forall$\",\"Sigma\":\"-\",\"Sum\":\"For all\"},{\"$\\\\Sigma$\":\"$\\\\vee$\",\"Sigma\":\"-\",\"Sum\":\"Logical or\"},{\"$\\\\Sigma$\":\"$\\\\wedge$\",\"Sigma\":\"-\",\"Sum\":\"Logical and\"},{\"$\\\\Sigma$\":\"$\\\\mathcal{O}$\",\"Sigma\":\"-\",\"Sum\":\"Big-O notation (order)\"},{\"$\\\\Sigma$\":\"$>$\",\"Sigma\":\"-\",\"Sum\":\"Greater than\"},{\"$\\\\Sigma$\":\"$<$\",\"Sigma\":\"-\",\"Sum\":\"Smaller than\"},{\"$\\\\Sigma$\":\"$\\\\gg$\",\"Sigma\":\"-\",\"Sum\":\"Much greater than\"},{\"$\\\\Sigma$\":\"$\\\\ll$\",\"Sigma\":\"-\",\"Sum\":\"Much smaller than\"},{\"$\\\\Sigma$\":\"$!$\",\"Sigma\":\"-\",\"Sum\":\"Factorial\"},{\"$\\\\Sigma$\":\"$\\\\equiv$\",\"Sigma\":\"-\",\"Sum\":\"Is identical to\"},{\"$\\\\Sigma$\":\"$\\\\in$\",\"Sigma\":\"-\",\"Sum\":\"Is an element of\"},{\"$\\\\Sigma$\":\"$\\\\ni$\",\"Sigma\":\"-\",\"Sum\":\"Contains\"},{\"$\\\\Sigma$\":\"$\\\\propto$\",\"Sigma\":\"-\",\"Sum\":\"Is proportionate to\"},{\"$\\\\Sigma$\":\"$\\\\exists$\",\"Sigma\":\"-\",\"Sum\":\"There exists\"},{\"$\\\\Sigma$\":\"$\\\\nexists$\",\"Sigma\":\"-\",\"Sum\":\"There does not exist\"},{\"$\\\\Sigma$\":\"$\\\\approx$\",\"Sigma\":\"-\",\"Sum\":\"Approximately equal to\"},{\"$\\\\Sigma$\":\"$\\\\perp$\",\"Sigma\":\"-\",\"Sum\":\"Perpendicular\\/orthogonal\"},{\"$\\\\Sigma$\":\"$\\\\cap$\",\"Sigma\":\"-\",\"Sum\":\"Intersect\"},{\"$\\\\Sigma$\":\"$\\\\cup$\",\"Sigma\":\"-\",\"Sum\":\"Union\"},{\"$\\\\Sigma$\":\"$\\\\infty$\",\"Sigma\":\"-\",\"Sum\":\"Infinity\"}]\n"
     ]
    }
   ],
   "source": [
    "import json\n",
    "df_json = df.reset_index().to_json(orient=\"records\")  # Use this string in the HTML\n",
    "print(df_json) "
   ]
  }
 ],
 "metadata": {
  "kernelspec": {
   "display_name": "teachbooks",
   "language": "python",
   "name": "python3"
  },
  "language_info": {
   "codemirror_mode": {
    "name": "ipython",
    "version": 3
   },
   "file_extension": ".py",
   "mimetype": "text/x-python",
   "name": "python",
   "nbconvert_exporter": "python",
   "pygments_lexer": "ipython3",
   "version": "3.13.2"
  }
 },
 "nbformat": 4,
 "nbformat_minor": 5
}
