{
 "cells": [
  {
   "cell_type": "code",
   "execution_count": 1,
   "id": "203df05f",
   "metadata": {
    "tags": [
     "remove-output",
     "remove-input"
    ]
   },
   "outputs": [],
   "source": [
    "from interactive_glossary import Interactive_Glossary"
   ]
  },
  {
   "cell_type": "markdown",
   "id": "6b40d10e",
   "metadata": {},
   "source": [
    "(content:interactieve_glossary)=\n",
    "# Interactieve Glossary\n",
    "Deze notebook bevat een weergave van de interactieve glossary voor de bacheloropleiding Civiele Techniek aan de Technische Universiteit Delft. Een gebruiker kan deze gebruiken door één of meerdere cursussen te selecteren. De tabel toont vervolgens per rij een symbool dat in de geselecteerde cursus(sen) wordt gebruikt, terwijl de kolommen de use case in die cursus beschrijven."
   ]
  },
  {
   "cell_type": "markdown",
   "id": "64a9370b",
   "metadata": {},
   "source": [
    "## Greek glossary sheet"
   ]
  },
  {
   "cell_type": "code",
   "execution_count": 2,
   "id": "15ab6eba",
   "metadata": {},
   "outputs": [
    {
     "data": {
      "text/html": [
       "<h3>📚 Interactive Glossary of Greek Symbols</h3>"
      ],
      "text/plain": [
       "<IPython.core.display.HTML object>"
      ]
     },
     "metadata": {},
     "output_type": "display_data"
    },
    {
     "data": {
      "text/html": [
       "<p>Select one or more courses to filter the symbols and their meanings:</p>"
      ],
      "text/plain": [
       "<IPython.core.display.HTML object>"
      ]
     },
     "metadata": {},
     "output_type": "display_data"
    },
    {
     "data": {
      "application/vnd.jupyter.widget-view+json": {
       "model_id": "4c13c3217de34a38bf77d7495ea94756",
       "version_major": 2,
       "version_minor": 0
      },
      "text/plain": [
       "interactive(children=(SelectMultiple(description='Courses:', index=(0,), layout=Layout(height='250px', width='…"
      ]
     },
     "metadata": {},
     "output_type": "display_data"
    }
   ],
   "source": [
    "interactive_glossary = Interactive_Glossary()\n",
    "interactive_glossary.MultiCoursePlotly(sheet='Greek', option_all_combined=True)"
   ]
  },
  {
   "cell_type": "markdown",
   "id": "5fffddaa",
   "metadata": {},
   "source": [
    "## Math operators glossary sheet"
   ]
  },
  {
   "cell_type": "code",
   "execution_count": 3,
   "id": "138ae997",
   "metadata": {},
   "outputs": [
    {
     "data": {
      "text/html": [
       "<h3>📚 Interactive Glossary of Math Operators</h3>"
      ],
      "text/plain": [
       "<IPython.core.display.HTML object>"
      ]
     },
     "metadata": {},
     "output_type": "display_data"
    },
    {
     "data": {
      "text/html": [
       "<p>Select one or more courses to filter the operators and their meanings:</p>"
      ],
      "text/plain": [
       "<IPython.core.display.HTML object>"
      ]
     },
     "metadata": {},
     "output_type": "display_data"
    },
    {
     "data": {
      "application/vnd.jupyter.widget-view+json": {
       "model_id": "482d65e277394ad38e8a019f4b2919e9",
       "version_major": 2,
       "version_minor": 0
      },
      "text/plain": [
       "interactive(children=(Text(value='', description='Search:', layout=Layout(width='398px'), placeholder='Search …"
      ]
     },
     "metadata": {},
     "output_type": "display_data"
    }
   ],
   "source": [
    "interactive_glossary.MathOperatorsPlotly(option_search=True)"
   ]
  },
  {
   "cell_type": "markdown",
   "id": "7c1a576d",
   "metadata": {},
   "source": [
    "## Latin symbols glossary sheet"
   ]
  },
  {
   "cell_type": "code",
   "execution_count": 4,
   "id": "18a9e182",
   "metadata": {},
   "outputs": [
    {
     "data": {
      "text/html": [
       "<h3>📚 Interactive Glossary of Latin Symbols</h3>"
      ],
      "text/plain": [
       "<IPython.core.display.HTML object>"
      ]
     },
     "metadata": {},
     "output_type": "display_data"
    },
    {
     "data": {
      "text/html": [
       "<p>Select one or more courses to filter the symbols and their meanings:</p>"
      ],
      "text/plain": [
       "<IPython.core.display.HTML object>"
      ]
     },
     "metadata": {},
     "output_type": "display_data"
    },
    {
     "data": {
      "application/vnd.jupyter.widget-view+json": {
       "model_id": "4e728c42e62146e2851377cc33bb187c",
       "version_major": 2,
       "version_minor": 0
      },
      "text/plain": [
       "interactive(children=(SelectMultiple(description='Courses:', index=(0,), layout=Layout(height='250px', width='…"
      ]
     },
     "metadata": {},
     "output_type": "display_data"
    }
   ],
   "source": [
    "interactive_glossary.MultiCoursePlotly(sheet='Latin', option_all_separate=True, option_all_combined=True)"
   ]
  },
  {
   "cell_type": "markdown",
   "id": "69392e8a",
   "metadata": {},
   "source": [
    "# Math notation examples"
   ]
  },
  {
   "cell_type": "markdown",
   "id": "346b8ae3",
   "metadata": {},
   "source": [
    "**Difference between $d$ and $\\partial$**:\n",
    "\n",
    "$$\n",
    "\\vec{a} = \\frac{d\\vec{v}}{dt} = \\frac{\\partial\\vec{v}}{\\partial t} + \\Big(v_x \\frac{\\partial}{\\partial x} + v_y \\frac{\\partial}{\\partial y} + v_z \\frac{\\partial}{\\partial z} \\Big) \\cdot \\vec{v}\n",
    "$$\n",
    "\n",
    "**Kronecker/Dirac delta**:\n",
    "\n",
    "$$\n",
    "\\delta_{ij} = \\begin{cases}\n",
    "1 & 1, \\quad i = j\\\\\n",
    "2 & 0, \\quad i \\neq j\n",
    "\\end{cases}\n",
    "$$\n",
    "\n",
    "**Conditional probability**:\n",
    "\n",
    "$$\n",
    "P(A|C) = \\frac{P(A\\cap C)}{P(C)} \\quad \\text{for} \\quad P(C) > 0\n",
    "$$\n",
    "\n",
    "**Mass moment of inertia of square surface area**:\n",
    "\n",
    "$$\n",
    "I = \\frac{1}{12} b h^3\n",
    "$$"
   ]
  },
  {
   "cell_type": "code",
   "execution_count": 6,
   "id": "532902fc",
   "metadata": {},
   "outputs": [],
   "source": [
    "import pandas as pd"
   ]
  },
  {
   "cell_type": "code",
   "execution_count": 7,
   "id": "37e28b63",
   "metadata": {},
   "outputs": [],
   "source": [
    "df = pd.read_csv('Glossary_CT_Greek.csv', skiprows=2, index_col=[0,1])"
   ]
  },
  {
   "cell_type": "code",
   "execution_count": null,
   "id": "3e2ba29c",
   "metadata": {},
   "outputs": [
    {
     "name": "stdout",
     "output_type": "stream",
     "text": [
      "[{\"Symbol\":\"$\\\\alpha$\",\"Name\":\"alpha\",\"Analyse\":null,\"Constructie Mechanica 1\":null,\"Inleiding Civiele & Milieutechniek\":null,\"Schone Watersystemen\":null,\"Integraal Ontwerpen\":null,\"Lineaire Algebra\":null,\"Constructie Mechanica 2\":null,\"Bouwmaterialen & Milieu\":null,\"Ontwerpen van Constructies & Funderingen 1\":\"Thermal expansion coefficient, emperical base factor\",\"Transport & Planning\":null,\"Differentiaalvergelijkingen\":null,\"Vloeistofmechanica\":\"Correction factor\",\"Stedelijk Water en Milieutechniek\":\"Angle\",\"Kansrekening & Statistiek\":null,\"Constructie Mechanica 3\":\"Thermal expansion coefficient\",\"Beton & Staalconstructies\":\"Shape factor, reduction factor\",\"Dynamica van Systemen\":null,\"Grondmechanica\":null,\"Ontwerpen van Constructies & Funderingen 2\":null,\"Numerieke Wisunde\":null,\"Waterbouwkunde\":null,\"Hydrologie\":\"Drainage parameter\"},{\"Symbol\":\"$\\\\beta$\",\"Name\":\"beta\",\"Analyse\":null,\"Constructie Mechanica 1\":null,\"Inleiding Civiele & Milieutechniek\":null,\"Schone Watersystemen\":null,\"Integraal Ontwerpen\":null,\"Lineaire Algebra\":null,\"Constructie Mechanica 2\":null,\"Bouwmaterialen & Milieu\":null,\"Ontwerpen van Constructies & Funderingen 1\":\"Factor for enlarged pile bases\",\"Transport & Planning\":null,\"Differentiaalvergelijkingen\":null,\"Vloeistofmechanica\":null,\"Stedelijk Water en Milieutechniek\":null,\"Kansrekening & Statistiek\":null,\"Constructie Mechanica 3\":null,\"Beton & Staalconstructies\":\"Reliability index\",\"Dynamica van Systemen\":null,\"Grondmechanica\":null,\"Ontwerpen van Constructies & Funderingen 2\":null,\"Numerieke Wisunde\":null,\"Waterbouwkunde\":null,\"Hydrologie\":null},{\"Symbol\":\"$\\\\gamma$\",\"Name\":\"gamma\",\"Analyse\":null,\"Constructie Mechanica 1\":null,\"Inleiding Civiele & Milieutechniek\":null,\"Schone Watersystemen\":null,\"Integraal Ontwerpen\":null,\"Lineaire Algebra\":null,\"Constructie Mechanica 2\":null,\"Bouwmaterialen & Milieu\":\"Shear angle\",\"Ontwerpen van Constructies & Funderingen 1\":\"Bulk unit weight\",\"Transport & Planning\":null,\"Differentiaalvergelijkingen\":\"Friction constant\",\"Vloeistofmechanica\":\"Shear angle\",\"Stedelijk Water en Milieutechniek\":null,\"Kansrekening & Statistiek\":\"Confidence level\",\"Constructie Mechanica 3\":null,\"Beton & Staalconstructies\":\"Partial factor\",\"Dynamica van Systemen\":null,\"Grondmechanica\":\"Weight\",\"Ontwerpen van Constructies & Funderingen 2\":\"Weight\",\"Numerieke Wisunde\":null,\"Waterbouwkunde\":\"Reduction factor\",\"Hydrologie\":\"Psychrometer constant\"},{\"Symbol\":\"$\\\\dot{\\\\gamma}$\",\"Name\":\"gamma dot\",\"Analyse\":null,\"Constructie Mechanica 1\":null,\"Inleiding Civiele & Milieutechniek\":null,\"Schone Watersystemen\":null,\"Integraal Ontwerpen\":null,\"Lineaire Algebra\":null,\"Constructie Mechanica 2\":null,\"Bouwmaterialen & Milieu\":null,\"Ontwerpen van Constructies & Funderingen 1\":null,\"Transport & Planning\":null,\"Differentiaalvergelijkingen\":null,\"Vloeistofmechanica\":\"Shear rate\",\"Stedelijk Water en Milieutechniek\":null,\"Kansrekening & Statistiek\":null,\"Constructie Mechanica 3\":null,\"Beton & Staalconstructies\":null,\"Dynamica van Systemen\":null,\"Grondmechanica\":null,\"Ontwerpen van Constructies & Funderingen 2\":null,\"Numerieke Wisunde\":null,\"Waterbouwkunde\":null,\"Hydrologie\":null},{\"Symbol\":\"$\\\\delta$\",\"Name\":\"delta\",\"Analyse\":null,\"Constructie Mechanica 1\":null,\"Inleiding Civiele & Milieutechniek\":null,\"Schone Watersystemen\":null,\"Integraal Ontwerpen\":null,\"Lineaire Algebra\":null,\"Constructie Mechanica 2\":null,\"Bouwmaterialen & Milieu\":null,\"Ontwerpen van Constructies & Funderingen 1\":\"Interface friction angle between the soil and pile\",\"Transport & Planning\":null,\"Differentiaalvergelijkingen\":\"Dirac delta function\",\"Vloeistofmechanica\":null,\"Stedelijk Water en Milieutechniek\":null,\"Kansrekening & Statistiek\":null,\"Constructie Mechanica 3\":null,\"Beton & Staalconstructies\":\"Displacement\",\"Dynamica van Systemen\":\"Dirac delta function\",\"Grondmechanica\":null,\"Ontwerpen van Constructies & Funderingen 2\":null,\"Numerieke Wisunde\":null,\"Waterbouwkunde\":null,\"Hydrologie\":null},{\"Symbol\":\"$\\\\delta \\\\theta$\",\"Name\":\"delta theta\",\"Analyse\":null,\"Constructie Mechanica 1\":null,\"Inleiding Civiele & Milieutechniek\":null,\"Schone Watersystemen\":null,\"Integraal Ontwerpen\":null,\"Lineaire Algebra\":null,\"Constructie Mechanica 2\":null,\"Bouwmaterialen & Milieu\":null,\"Ontwerpen van Constructies & Funderingen 1\":null,\"Transport & Planning\":null,\"Differentiaalvergelijkingen\":null,\"Vloeistofmechanica\":null,\"Stedelijk Water en Milieutechniek\":null,\"Kansrekening & Statistiek\":null,\"Constructie Mechanica 3\":\"Virtual rotation\",\"Beton & Staalconstructies\":null,\"Dynamica van Systemen\":null,\"Grondmechanica\":null,\"Ontwerpen van Constructies & Funderingen 2\":null,\"Numerieke Wisunde\":null,\"Waterbouwkunde\":null,\"Hydrologie\":null},{\"Symbol\":\"$\\\\Delta$\",\"Name\":\"Delta\",\"Analyse\":\"Difference\",\"Constructie Mechanica 1\":null,\"Inleiding Civiele & Milieutechniek\":null,\"Schone Watersystemen\":null,\"Integraal Ontwerpen\":null,\"Lineaire Algebra\":null,\"Constructie Mechanica 2\":null,\"Bouwmaterialen & Milieu\":null,\"Ontwerpen van Constructies & Funderingen 1\":null,\"Transport & Planning\":null,\"Differentiaalvergelijkingen\":null,\"Vloeistofmechanica\":null,\"Stedelijk Water en Milieutechniek\":null,\"Kansrekening & Statistiek\":null,\"Constructie Mechanica 3\":null,\"Beton & Staalconstructies\":null,\"Dynamica van Systemen\":null,\"Grondmechanica\":null,\"Ontwerpen van Constructies & Funderingen 2\":null,\"Numerieke Wisunde\":null,\"Waterbouwkunde\":null,\"Hydrologie\":null},{\"Symbol\":\"$\\\\varepsilon$\",\"Name\":\"epsilon\",\"Analyse\":null,\"Constructie Mechanica 1\":null,\"Inleiding Civiele & Milieutechniek\":null,\"Schone Watersystemen\":null,\"Integraal Ontwerpen\":null,\"Lineaire Algebra\":null,\"Constructie Mechanica 2\":\"Strain\",\"Bouwmaterialen & Milieu\":\"Strain\",\"Ontwerpen van Constructies & Funderingen 1\":\"Strain\",\"Transport & Planning\":null,\"Differentiaalvergelijkingen\":null,\"Vloeistofmechanica\":null,\"Stedelijk Water en Milieutechniek\":null,\"Kansrekening & Statistiek\":null,\"Constructie Mechanica 3\":\"Strain\",\"Beton & Staalconstructies\":null,\"Dynamica van Systemen\":null,\"Grondmechanica\":\"Strain\",\"Ontwerpen van Constructies & Funderingen 2\":null,\"Numerieke Wisunde\":\"Error term\",\"Waterbouwkunde\":null,\"Hydrologie\":null},{\"Symbol\":\"$\\\\Epsilon$\",\"Name\":\"Epsilon\",\"Analyse\":null,\"Constructie Mechanica 1\":null,\"Inleiding Civiele & Milieutechniek\":null,\"Schone Watersystemen\":null,\"Integraal Ontwerpen\":null,\"Lineaire Algebra\":null,\"Constructie Mechanica 2\":\"Young's modulus\",\"Bouwmaterialen & Milieu\":\"Young's modulus\",\"Ontwerpen van Constructies & Funderingen 1\":null,\"Transport & Planning\":null,\"Differentiaalvergelijkingen\":null,\"Vloeistofmechanica\":null,\"Stedelijk Water en Milieutechniek\":null,\"Kansrekening & Statistiek\":null,\"Constructie Mechanica 3\":null,\"Beton & Staalconstructies\":null,\"Dynamica van Systemen\":null,\"Grondmechanica\":null,\"Ontwerpen van Constructies & Funderingen 2\":null,\"Numerieke Wisunde\":null,\"Waterbouwkunde\":null,\"Hydrologie\":null},{\"Symbol\":\"$\\\\Epsilon_{\\\\lambda}$\",\"Name\":\"Epsilon_lambda\",\"Analyse\":null,\"Constructie Mechanica 1\":null,\"Inleiding Civiele & Milieutechniek\":null,\"Schone Watersystemen\":null,\"Integraal Ontwerpen\":null,\"Lineaire Algebra\":null,\"Constructie Mechanica 2\":null,\"Bouwmaterialen & Milieu\":\"Eigenspace\",\"Ontwerpen van Constructies & Funderingen 1\":null,\"Transport & Planning\":null,\"Differentiaalvergelijkingen\":null,\"Vloeistofmechanica\":null,\"Stedelijk Water en Milieutechniek\":null,\"Kansrekening & Statistiek\":null,\"Constructie Mechanica 3\":null,\"Beton & Staalconstructies\":null,\"Dynamica van Systemen\":null,\"Grondmechanica\":null,\"Ontwerpen van Constructies & Funderingen 2\":null,\"Numerieke Wisunde\":null,\"Waterbouwkunde\":null,\"Hydrologie\":null},{\"Symbol\":\"$\\\\zeta$\",\"Name\":\"zeta\",\"Analyse\":null,\"Constructie Mechanica 1\":null,\"Inleiding Civiele & Milieutechniek\":null,\"Schone Watersystemen\":null,\"Integraal Ontwerpen\":null,\"Lineaire Algebra\":null,\"Constructie Mechanica 2\":null,\"Bouwmaterialen & Milieu\":null,\"Ontwerpen van Constructies & Funderingen 1\":null,\"Transport & Planning\":null,\"Differentiaalvergelijkingen\":null,\"Vloeistofmechanica\":null,\"Stedelijk Water en Milieutechniek\":null,\"Kansrekening & Statistiek\":null,\"Constructie Mechanica 3\":null,\"Beton & Staalconstructies\":null,\"Dynamica van Systemen\":\"Damping ratio\",\"Grondmechanica\":null,\"Ontwerpen van Constructies & Funderingen 2\":null,\"Numerieke Wisunde\":null,\"Waterbouwkunde\":\"Water level\",\"Hydrologie\":null},{\"Symbol\":\"$\\\\eta$\",\"Name\":\"eta\",\"Analyse\":null,\"Constructie Mechanica 1\":null,\"Inleiding Civiele & Milieutechniek\":null,\"Schone Watersystemen\":null,\"Integraal Ontwerpen\":null,\"Lineaire Algebra\":null,\"Constructie Mechanica 2\":null,\"Bouwmaterialen & Milieu\":null,\"Ontwerpen van Constructies & Funderingen 1\":null,\"Transport & Planning\":null,\"Differentiaalvergelijkingen\":null,\"Vloeistofmechanica\":\"Dynamic viscosity, efficiency\",\"Stedelijk Water en Milieutechniek\":null,\"Kansrekening & Statistiek\":null,\"Constructie Mechanica 3\":null,\"Beton & Staalconstructies\":null,\"Dynamica van Systemen\":null,\"Grondmechanica\":null,\"Ontwerpen van Constructies & Funderingen 2\":null,\"Numerieke Wisunde\":null,\"Waterbouwkunde\":\"Efficiency\",\"Hydrologie\":\"Porosity\"},{\"Symbol\":\"$\\\\theta$\",\"Name\":\"theta\",\"Analyse\":\"(polar) angle (argument of z)\",\"Constructie Mechanica 1\":null,\"Inleiding Civiele & Milieutechniek\":null,\"Schone Watersystemen\":null,\"Integraal Ontwerpen\":null,\"Lineaire Algebra\":null,\"Constructie Mechanica 2\":\"Angle\",\"Bouwmaterialen & Milieu\":null,\"Ontwerpen van Constructies & Funderingen 1\":null,\"Transport & Planning\":null,\"Differentiaalvergelijkingen\":null,\"Vloeistofmechanica\":\"Angle\",\"Stedelijk Water en Milieutechniek\":null,\"Kansrekening & Statistiek\":null,\"Constructie Mechanica 3\":\"Rotation\",\"Beton & Staalconstructies\":\"Angle\",\"Dynamica van Systemen\":\"Angle\",\"Grondmechanica\":null,\"Ontwerpen van Constructies & Funderingen 2\":null,\"Numerieke Wisunde\":null,\"Waterbouwkunde\":\"Stream parameter, angle\",\"Hydrologie\":null},{\"Symbol\":\"$\\\\dot{\\\\theta}$\",\"Name\":\"theta dot\",\"Analyse\":null,\"Constructie Mechanica 1\":null,\"Inleiding Civiele & Milieutechniek\":null,\"Schone Watersystemen\":null,\"Integraal Ontwerpen\":null,\"Lineaire Algebra\":null,\"Constructie Mechanica 2\":null,\"Bouwmaterialen & Milieu\":null,\"Ontwerpen van Constructies & Funderingen 1\":null,\"Transport & Planning\":null,\"Differentiaalvergelijkingen\":null,\"Vloeistofmechanica\":null,\"Stedelijk Water en Milieutechniek\":null,\"Kansrekening & Statistiek\":null,\"Constructie Mechanica 3\":null,\"Beton & Staalconstructies\":null,\"Dynamica van Systemen\":null,\"Grondmechanica\":null,\"Ontwerpen van Constructies & Funderingen 2\":null,\"Numerieke Wisunde\":null,\"Waterbouwkunde\":null,\"Hydrologie\":null},{\"Symbol\":\"$\\\\ddot{\\\\theta}$\",\"Name\":\"theta double dot\",\"Analyse\":null,\"Constructie Mechanica 1\":null,\"Inleiding Civiele & Milieutechniek\":null,\"Schone Watersystemen\":null,\"Integraal Ontwerpen\":null,\"Lineaire Algebra\":null,\"Constructie Mechanica 2\":null,\"Bouwmaterialen & Milieu\":null,\"Ontwerpen van Constructies & Funderingen 1\":null,\"Transport & Planning\":null,\"Differentiaalvergelijkingen\":null,\"Vloeistofmechanica\":null,\"Stedelijk Water en Milieutechniek\":null,\"Kansrekening & Statistiek\":null,\"Constructie Mechanica 3\":null,\"Beton & Staalconstructies\":null,\"Dynamica van Systemen\":null,\"Grondmechanica\":null,\"Ontwerpen van Constructies & Funderingen 2\":null,\"Numerieke Wisunde\":null,\"Waterbouwkunde\":null,\"Hydrologie\":null},{\"Symbol\":\"$\\\\kappa$\",\"Name\":\"kappa\",\"Analyse\":null,\"Constructie Mechanica 1\":null,\"Inleiding Civiele & Milieutechniek\":null,\"Schone Watersystemen\":null,\"Integraal Ontwerpen\":null,\"Lineaire Algebra\":null,\"Constructie Mechanica 2\":\"Curvature\",\"Bouwmaterialen & Milieu\":null,\"Ontwerpen van Constructies & Funderingen 1\":null,\"Transport & Planning\":null,\"Differentiaalvergelijkingen\":null,\"Vloeistofmechanica\":null,\"Stedelijk Water en Milieutechniek\":null,\"Kansrekening & Statistiek\":null,\"Constructie Mechanica 3\":\"Curvature\",\"Beton & Staalconstructies\":\"Curvature\",\"Dynamica van Systemen\":null,\"Grondmechanica\":\"Intrinsic permeability\",\"Ontwerpen van Constructies & Funderingen 2\":null,\"Numerieke Wisunde\":null,\"Waterbouwkunde\":null,\"Hydrologie\":null},{\"Symbol\":\"$\\\\lambda$\",\"Name\":\"lambda\",\"Analyse\":null,\"Constructie Mechanica 1\":null,\"Inleiding Civiele & Milieutechniek\":null,\"Schone Watersystemen\":null,\"Integraal Ontwerpen\":null,\"Lineaire Algebra\":null,\"Constructie Mechanica 2\":null,\"Bouwmaterialen & Milieu\":\"Eigenvalue\",\"Ontwerpen van Constructies & Funderingen 1\":null,\"Transport & Planning\":null,\"Differentiaalvergelijkingen\":null,\"Vloeistofmechanica\":null,\"Stedelijk Water en Milieutechniek\":null,\"Kansrekening & Statistiek\":null,\"Constructie Mechanica 3\":null,\"Beton & Staalconstructies\":\"Slenderness\",\"Dynamica van Systemen\":null,\"Grondmechanica\":null,\"Ontwerpen van Constructies & Funderingen 2\":null,\"Numerieke Wisunde\":\"Stability parameter, eigenvalue\",\"Waterbouwkunde\":null,\"Hydrologie\":null},{\"Symbol\":\"$\\\\lambda_w$\",\"Name\":\"lambda_w\",\"Analyse\":null,\"Constructie Mechanica 1\":null,\"Inleiding Civiele & Milieutechniek\":null,\"Schone Watersystemen\":null,\"Integraal Ontwerpen\":null,\"Lineaire Algebra\":null,\"Constructie Mechanica 2\":null,\"Bouwmaterialen & Milieu\":null,\"Ontwerpen van Constructies & Funderingen 1\":null,\"Transport & Planning\":null,\"Differentiaalvergelijkingen\":null,\"Vloeistofmechanica\":null,\"Stedelijk Water en Milieutechniek\":null,\"Kansrekening & Statistiek\":null,\"Constructie Mechanica 3\":null,\"Beton & Staalconstructies\":null,\"Dynamica van Systemen\":null,\"Grondmechanica\":null,\"Ontwerpen van Constructies & Funderingen 2\":null,\"Numerieke Wisunde\":null,\"Waterbouwkunde\":null,\"Hydrologie\":\"Heat\\/enthalpy of vaporization\"},{\"Symbol\":\"$\\\\mu$\",\"Name\":\"mu\",\"Analyse\":null,\"Constructie Mechanica 1\":null,\"Inleiding Civiele & Milieutechniek\":null,\"Schone Watersystemen\":null,\"Integraal Ontwerpen\":null,\"Lineaire Algebra\":null,\"Constructie Mechanica 2\":null,\"Bouwmaterialen & Milieu\":null,\"Ontwerpen van Constructies & Funderingen 1\":\"Mean\",\"Transport & Planning\":\"Sensitivity\",\"Differentiaalvergelijkingen\":null,\"Vloeistofmechanica\":\"Factor for area change (Carnot)\",\"Stedelijk Water en Milieutechniek\":\"Dynamic viscosity, specific growth rate\",\"Kansrekening & Statistiek\":\"Mean\",\"Constructie Mechanica 3\":null,\"Beton & Staalconstructies\":\"Mean\",\"Dynamica van Systemen\":null,\"Grondmechanica\":\"Dynamic viscosity\",\"Ontwerpen van Constructies & Funderingen 2\":null,\"Numerieke Wisunde\":null,\"Waterbouwkunde\":\"Dynamic viscosity, factor for area change (carnot)\",\"Hydrologie\":\"Storage coefficient\"},{\"Symbol\":\"$\\\\nu$\",\"Name\":\"nu\",\"Analyse\":null,\"Constructie Mechanica 1\":null,\"Inleiding Civiele & Milieutechniek\":null,\"Schone Watersystemen\":null,\"Integraal Ontwerpen\":null,\"Lineaire Algebra\":null,\"Constructie Mechanica 2\":null,\"Bouwmaterialen & Milieu\":\"Poisson's ratio\",\"Ontwerpen van Constructies & Funderingen 1\":null,\"Transport & Planning\":null,\"Differentiaalvergelijkingen\":null,\"Vloeistofmechanica\":\"Kinematic viscosity\",\"Stedelijk Water en Milieutechniek\":\"Kinematic viscosity\",\"Kansrekening & Statistiek\":null,\"Constructie Mechanica 3\":null,\"Beton & Staalconstructies\":\"Poisson's ratio\",\"Dynamica van Systemen\":null,\"Grondmechanica\":\"Poisson's ratio\",\"Ontwerpen van Constructies & Funderingen 2\":\"Poisson's ratio\",\"Numerieke Wisunde\":null,\"Waterbouwkunde\":\"Kinematic viscosity\",\"Hydrologie\":null},{\"Symbol\":\"$\\\\xi$\",\"Name\":\"xi\",\"Analyse\":null,\"Constructie Mechanica 1\":null,\"Inleiding Civiele & Milieutechniek\":null,\"Schone Watersystemen\":null,\"Integraal Ontwerpen\":null,\"Lineaire Algebra\":null,\"Constructie Mechanica 2\":null,\"Bouwmaterialen & Milieu\":null,\"Ontwerpen van Constructies & Funderingen 1\":null,\"Transport & Planning\":null,\"Differentiaalvergelijkingen\":null,\"Vloeistofmechanica\":null,\"Stedelijk Water en Milieutechniek\":null,\"Kansrekening & Statistiek\":null,\"Constructie Mechanica 3\":null,\"Beton & Staalconstructies\":null,\"Dynamica van Systemen\":null,\"Grondmechanica\":null,\"Ontwerpen van Constructies & Funderingen 2\":null,\"Numerieke Wisunde\":\"Error term\",\"Waterbouwkunde\":null,\"Hydrologie\":null},{\"Symbol\":\"$\\\\rho$\",\"Name\":\"rho\",\"Analyse\":\"Density\",\"Constructie Mechanica 1\":null,\"Inleiding Civiele & Milieutechniek\":null,\"Schone Watersystemen\":null,\"Integraal Ontwerpen\":null,\"Lineaire Algebra\":null,\"Constructie Mechanica 2\":null,\"Bouwmaterialen & Milieu\":\"Density\",\"Ontwerpen van Constructies & Funderingen 1\":null,\"Transport & Planning\":null,\"Differentiaalvergelijkingen\":\"Mass per unit length\",\"Vloeistofmechanica\":\"Density\",\"Stedelijk Water en Milieutechniek\":\"Density\",\"Kansrekening & Statistiek\":\"Correlation\",\"Constructie Mechanica 3\":null,\"Beton & Staalconstructies\":\"Density, reinforcement ratio\",\"Dynamica van Systemen\":\"Density\",\"Grondmechanica\":\"Density\",\"Ontwerpen van Constructies & Funderingen 2\":\"Reinforcement ratio\",\"Numerieke Wisunde\":null,\"Waterbouwkunde\":\"Density\",\"Hydrologie\":\"Density\"},{\"Symbol\":\"$\\\\sigma$\",\"Name\":\"sigma\",\"Analyse\":null,\"Constructie Mechanica 1\":null,\"Inleiding Civiele & Milieutechniek\":null,\"Schone Watersystemen\":null,\"Integraal Ontwerpen\":null,\"Lineaire Algebra\":null,\"Constructie Mechanica 2\":\"Stress\",\"Bouwmaterialen & Milieu\":\"Phase strength\",\"Ontwerpen van Constructies & Funderingen 1\":\"Stress, standard deviation\",\"Transport & Planning\":null,\"Differentiaalvergelijkingen\":null,\"Vloeistofmechanica\":null,\"Stedelijk Water en Milieutechniek\":null,\"Kansrekening & Statistiek\":\"Standard deviation\",\"Constructie Mechanica 3\":\"Normal stress\",\"Beton & Staalconstructies\":\"Standard deviation, normal stress\",\"Dynamica van Systemen\":null,\"Grondmechanica\":\"Total stress\",\"Ontwerpen van Constructies & Funderingen 2\":\"Stress\",\"Numerieke Wisunde\":null,\"Waterbouwkunde\":null,\"Hydrologie\":null},{\"Symbol\":\"$\\\\sigma'$\",\"Name\":\"sigma\",\"Analyse\":null,\"Constructie Mechanica 1\":null,\"Inleiding Civiele & Milieutechniek\":null,\"Schone Watersystemen\":null,\"Integraal Ontwerpen\":null,\"Lineaire Algebra\":null,\"Constructie Mechanica 2\":null,\"Bouwmaterialen & Milieu\":\"Stress at crack tip\",\"Ontwerpen van Constructies & Funderingen 1\":null,\"Transport & Planning\":null,\"Differentiaalvergelijkingen\":null,\"Vloeistofmechanica\":null,\"Stedelijk Water en Milieutechniek\":null,\"Kansrekening & Statistiek\":null,\"Constructie Mechanica 3\":null,\"Beton & Staalconstructies\":null,\"Dynamica van Systemen\":null,\"Grondmechanica\":\"Effective stress\",\"Ontwerpen van Constructies & Funderingen 2\":\"Effective stress\",\"Numerieke Wisunde\":null,\"Waterbouwkunde\":null,\"Hydrologie\":null},{\"Symbol\":\"$\\\\sigma^2$\",\"Name\":\"sigma squared\",\"Analyse\":null,\"Constructie Mechanica 1\":null,\"Inleiding Civiele & Milieutechniek\":null,\"Schone Watersystemen\":null,\"Integraal Ontwerpen\":null,\"Lineaire Algebra\":null,\"Constructie Mechanica 2\":null,\"Bouwmaterialen & Milieu\":null,\"Ontwerpen van Constructies & Funderingen 1\":null,\"Transport & Planning\":null,\"Differentiaalvergelijkingen\":null,\"Vloeistofmechanica\":null,\"Stedelijk Water en Milieutechniek\":null,\"Kansrekening & Statistiek\":\"Variance\",\"Constructie Mechanica 3\":null,\"Beton & Staalconstructies\":null,\"Dynamica van Systemen\":null,\"Grondmechanica\":null,\"Ontwerpen van Constructies & Funderingen 2\":null,\"Numerieke Wisunde\":null,\"Waterbouwkunde\":null,\"Hydrologie\":null},{\"Symbol\":\"$\\\\sigma_o$\",\"Name\":\"sigma\",\"Analyse\":null,\"Constructie Mechanica 1\":null,\"Inleiding Civiele & Milieutechniek\":null,\"Schone Watersystemen\":null,\"Integraal Ontwerpen\":null,\"Lineaire Algebra\":null,\"Constructie Mechanica 2\":null,\"Bouwmaterialen & Milieu\":\"Stress applied on the surface\",\"Ontwerpen van Constructies & Funderingen 1\":null,\"Transport & Planning\":null,\"Differentiaalvergelijkingen\":null,\"Vloeistofmechanica\":null,\"Stedelijk Water en Milieutechniek\":null,\"Kansrekening & Statistiek\":null,\"Constructie Mechanica 3\":null,\"Beton & Staalconstructies\":null,\"Dynamica van Systemen\":null,\"Grondmechanica\":null,\"Ontwerpen van Constructies & Funderingen 2\":null,\"Numerieke Wisunde\":null,\"Waterbouwkunde\":null,\"Hydrologie\":null},{\"Symbol\":\"$\\\\sigma_v$\",\"Name\":\"sigma\",\"Analyse\":null,\"Constructie Mechanica 1\":null,\"Inleiding Civiele & Milieutechniek\":null,\"Schone Watersystemen\":null,\"Integraal Ontwerpen\":null,\"Lineaire Algebra\":null,\"Constructie Mechanica 2\":null,\"Bouwmaterialen & Milieu\":null,\"Ontwerpen van Constructies & Funderingen 1\":\"Total vertical stress\",\"Transport & Planning\":null,\"Differentiaalvergelijkingen\":null,\"Vloeistofmechanica\":null,\"Stedelijk Water en Milieutechniek\":null,\"Kansrekening & Statistiek\":null,\"Constructie Mechanica 3\":null,\"Beton & Staalconstructies\":null,\"Dynamica van Systemen\":null,\"Grondmechanica\":null,\"Ontwerpen van Constructies & Funderingen 2\":null,\"Numerieke Wisunde\":null,\"Waterbouwkunde\":null,\"Hydrologie\":null},{\"Symbol\":\"$\\\\sigma_v'$\",\"Name\":\"sigma\",\"Analyse\":null,\"Constructie Mechanica 1\":null,\"Inleiding Civiele & Milieutechniek\":null,\"Schone Watersystemen\":null,\"Integraal Ontwerpen\":null,\"Lineaire Algebra\":null,\"Constructie Mechanica 2\":null,\"Bouwmaterialen & Milieu\":null,\"Ontwerpen van Constructies & Funderingen 1\":\"Vertical effective stress\",\"Transport & Planning\":null,\"Differentiaalvergelijkingen\":null,\"Vloeistofmechanica\":null,\"Stedelijk Water en Milieutechniek\":null,\"Kansrekening & Statistiek\":null,\"Constructie Mechanica 3\":null,\"Beton & Staalconstructies\":null,\"Dynamica van Systemen\":null,\"Grondmechanica\":null,\"Ontwerpen van Constructies & Funderingen 2\":null,\"Numerieke Wisunde\":null,\"Waterbouwkunde\":null,\"Hydrologie\":null},{\"Symbol\":\"$\\\\sigma_{vf}'$\",\"Name\":\"sigma\",\"Analyse\":null,\"Constructie Mechanica 1\":null,\"Inleiding Civiele & Milieutechniek\":null,\"Schone Watersystemen\":null,\"Integraal Ontwerpen\":null,\"Lineaire Algebra\":null,\"Constructie Mechanica 2\":null,\"Bouwmaterialen & Milieu\":null,\"Ontwerpen van Constructies & Funderingen 1\":null,\"Transport & Planning\":null,\"Differentiaalvergelijkingen\":null,\"Vloeistofmechanica\":null,\"Stedelijk Water en Milieutechniek\":null,\"Kansrekening & Statistiek\":null,\"Constructie Mechanica 3\":null,\"Beton & Staalconstructies\":null,\"Dynamica van Systemen\":null,\"Grondmechanica\":null,\"Ontwerpen van Constructies & Funderingen 2\":\"Final vertical effective stress\",\"Numerieke Wisunde\":null,\"Waterbouwkunde\":null,\"Hydrologie\":null},{\"Symbol\":\"$\\\\tau$\",\"Name\":\"tau\",\"Analyse\":null,\"Constructie Mechanica 1\":null,\"Inleiding Civiele & Milieutechniek\":null,\"Schone Watersystemen\":null,\"Integraal Ontwerpen\":null,\"Lineaire Algebra\":null,\"Constructie Mechanica 2\":\"Shear stress\",\"Bouwmaterialen & Milieu\":\"Shear stress\",\"Ontwerpen van Constructies & Funderingen 1\":\"Shear stress\",\"Transport & Planning\":\"Angular rotation\",\"Differentiaalvergelijkingen\":null,\"Vloeistofmechanica\":\"Shear stress\",\"Stedelijk Water en Milieutechniek\":null,\"Kansrekening & Statistiek\":null,\"Constructie Mechanica 3\":\"Shear stress\",\"Beton & Staalconstructies\":\"Shear stress\",\"Dynamica van Systemen\":null,\"Grondmechanica\":\"Shear stress\",\"Ontwerpen van Constructies & Funderingen 2\":\"Shear stress\",\"Numerieke Wisunde\":\"Local error\",\"Waterbouwkunde\":\"Bottom friction\",\"Hydrologie\":null},{\"Symbol\":\"$\\\\tau_f$\",\"Name\":\"tau\",\"Analyse\":null,\"Constructie Mechanica 1\":null,\"Inleiding Civiele & Milieutechniek\":null,\"Schone Watersystemen\":null,\"Integraal Ontwerpen\":null,\"Lineaire Algebra\":null,\"Constructie Mechanica 2\":null,\"Bouwmaterialen & Milieu\":null,\"Ontwerpen van Constructies & Funderingen 1\":\"Failure shear stress\",\"Transport & Planning\":null,\"Differentiaalvergelijkingen\":null,\"Vloeistofmechanica\":null,\"Stedelijk Water en Milieutechniek\":null,\"Kansrekening & Statistiek\":null,\"Constructie Mechanica 3\":null,\"Beton & Staalconstructies\":null,\"Dynamica van Systemen\":null,\"Grondmechanica\":\"Failure shear stress\",\"Ontwerpen van Constructies & Funderingen 2\":null,\"Numerieke Wisunde\":null,\"Waterbouwkunde\":null,\"Hydrologie\":null},{\"Symbol\":\"$\\\\varphi$\",\"Name\":\"phi\",\"Analyse\":\"Azimuthal angle\",\"Constructie Mechanica 1\":null,\"Inleiding Civiele & Milieutechniek\":null,\"Schone Watersystemen\":null,\"Integraal Ontwerpen\":null,\"Lineaire Algebra\":\"Angle\",\"Constructie Mechanica 2\":\"Rotation\",\"Bouwmaterialen & Milieu\":null,\"Ontwerpen van Constructies & Funderingen 1\":null,\"Transport & Planning\":null,\"Differentiaalvergelijkingen\":null,\"Vloeistofmechanica\":null,\"Stedelijk Water en Milieutechniek\":null,\"Kansrekening & Statistiek\":null,\"Constructie Mechanica 3\":\"Rotation\",\"Beton & Staalconstructies\":null,\"Dynamica van Systemen\":null,\"Grondmechanica\":null,\"Ontwerpen van Constructies & Funderingen 2\":null,\"Numerieke Wisunde\":null,\"Waterbouwkunde\":null,\"Hydrologie\":null},{\"Symbol\":\"$\\\\varphi_0$\",\"Name\":\"phi\",\"Analyse\":null,\"Constructie Mechanica 1\":null,\"Inleiding Civiele & Milieutechniek\":null,\"Schone Watersystemen\":null,\"Integraal Ontwerpen\":null,\"Lineaire Algebra\":null,\"Constructie Mechanica 2\":null,\"Bouwmaterialen & Milieu\":null,\"Ontwerpen van Constructies & Funderingen 1\":null,\"Transport & Planning\":null,\"Differentiaalvergelijkingen\":null,\"Vloeistofmechanica\":null,\"Stedelijk Water en Milieutechniek\":null,\"Kansrekening & Statistiek\":null,\"Constructie Mechanica 3\":null,\"Beton & Staalconstructies\":null,\"Dynamica van Systemen\":\"Natural phase\",\"Grondmechanica\":null,\"Ontwerpen van Constructies & Funderingen 2\":null,\"Numerieke Wisunde\":null,\"Waterbouwkunde\":null,\"Hydrologie\":null},{\"Symbol\":\"$\\\\phi$\",\"Name\":\"phi\",\"Analyse\":null,\"Constructie Mechanica 1\":null,\"Inleiding Civiele & Milieutechniek\":null,\"Schone Watersystemen\":null,\"Integraal Ontwerpen\":null,\"Lineaire Algebra\":null,\"Constructie Mechanica 2\":null,\"Bouwmaterialen & Milieu\":null,\"Ontwerpen van Constructies & Funderingen 1\":\"Angle of internal friction\",\"Transport & Planning\":null,\"Differentiaalvergelijkingen\":null,\"Vloeistofmechanica\":null,\"Stedelijk Water en Milieutechniek\":null,\"Kansrekening & Statistiek\":null,\"Constructie Mechanica 3\":null,\"Beton & Staalconstructies\":\"Reinforcement diameter\",\"Dynamica van Systemen\":null,\"Grondmechanica\":\"Potential, friction angle\",\"Ontwerpen van Constructies & Funderingen 2\":null,\"Numerieke Wisunde\":null,\"Waterbouwkunde\":\"Transport parameter\",\"Hydrologie\":null},{\"Symbol\":\"$\\\\phi'$\",\"Name\":\"phi\",\"Analyse\":null,\"Constructie Mechanica 1\":null,\"Inleiding Civiele & Milieutechniek\":null,\"Schone Watersystemen\":null,\"Integraal Ontwerpen\":null,\"Lineaire Algebra\":null,\"Constructie Mechanica 2\":null,\"Bouwmaterialen & Milieu\":null,\"Ontwerpen van Constructies & Funderingen 1\":null,\"Transport & Planning\":null,\"Differentiaalvergelijkingen\":null,\"Vloeistofmechanica\":null,\"Stedelijk Water en Milieutechniek\":null,\"Kansrekening & Statistiek\":null,\"Constructie Mechanica 3\":null,\"Beton & Staalconstructies\":null,\"Dynamica van Systemen\":null,\"Grondmechanica\":null,\"Ontwerpen van Constructies & Funderingen 2\":\"Friction angle\",\"Numerieke Wisunde\":null,\"Waterbouwkunde\":null,\"Hydrologie\":null},{\"Symbol\":\"$\\\\chi$\",\"Name\":\"chi\",\"Analyse\":null,\"Constructie Mechanica 1\":null,\"Inleiding Civiele & Milieutechniek\":null,\"Schone Watersystemen\":null,\"Integraal Ontwerpen\":null,\"Lineaire Algebra\":null,\"Constructie Mechanica 2\":null,\"Bouwmaterialen & Milieu\":null,\"Ontwerpen van Constructies & Funderingen 1\":null,\"Transport & Planning\":null,\"Differentiaalvergelijkingen\":null,\"Vloeistofmechanica\":null,\"Stedelijk Water en Milieutechniek\":null,\"Kansrekening & Statistiek\":null,\"Constructie Mechanica 3\":null,\"Beton & Staalconstructies\":\"Reduction factor\",\"Dynamica van Systemen\":null,\"Grondmechanica\":null,\"Ontwerpen van Constructies & Funderingen 2\":null,\"Numerieke Wisunde\":null,\"Waterbouwkunde\":null,\"Hydrologie\":null},{\"Symbol\":\"$\\\\psi$\",\"Name\":\"psi\",\"Analyse\":null,\"Constructie Mechanica 1\":null,\"Inleiding Civiele & Milieutechniek\":null,\"Schone Watersystemen\":null,\"Integraal Ontwerpen\":null,\"Lineaire Algebra\":null,\"Constructie Mechanica 2\":null,\"Bouwmaterialen & Milieu\":null,\"Ontwerpen van Constructies & Funderingen 1\":null,\"Transport & Planning\":null,\"Differentiaalvergelijkingen\":null,\"Vloeistofmechanica\":null,\"Stedelijk Water en Milieutechniek\":null,\"Kansrekening & Statistiek\":null,\"Constructie Mechanica 3\":null,\"Beton & Staalconstructies\":\"Combination factor\",\"Dynamica van Systemen\":null,\"Grondmechanica\":\"Stream function\",\"Ontwerpen van Constructies & Funderingen 2\":null,\"Numerieke Wisunde\":null,\"Waterbouwkunde\":\"Shields parameter\",\"Hydrologie\":null},{\"Symbol\":\"$\\\\omega$\",\"Name\":\"omega\",\"Analyse\":null,\"Constructie Mechanica 1\":null,\"Inleiding Civiele & Milieutechniek\":null,\"Schone Watersystemen\":null,\"Integraal Ontwerpen\":null,\"Lineaire Algebra\":null,\"Constructie Mechanica 2\":null,\"Bouwmaterialen & Milieu\":null,\"Ontwerpen van Constructies & Funderingen 1\":null,\"Transport & Planning\":\"Shock wave speed\",\"Differentiaalvergelijkingen\":\"Angular frequency\",\"Vloeistofmechanica\":null,\"Stedelijk Water en Milieutechniek\":null,\"Kansrekening & Statistiek\":null,\"Constructie Mechanica 3\":null,\"Beton & Staalconstructies\":null,\"Dynamica van Systemen\":\"Frequency\",\"Grondmechanica\":null,\"Ontwerpen van Constructies & Funderingen 2\":null,\"Numerieke Wisunde\":null,\"Waterbouwkunde\":\"Angular frequency\",\"Hydrologie\":null},{\"Symbol\":\"$\\\\omega_0$\",\"Name\":\"omega\",\"Analyse\":null,\"Constructie Mechanica 1\":null,\"Inleiding Civiele & Milieutechniek\":null,\"Schone Watersystemen\":null,\"Integraal Ontwerpen\":null,\"Lineaire Algebra\":null,\"Constructie Mechanica 2\":null,\"Bouwmaterialen & Milieu\":null,\"Ontwerpen van Constructies & Funderingen 1\":null,\"Transport & Planning\":null,\"Differentiaalvergelijkingen\":null,\"Vloeistofmechanica\":null,\"Stedelijk Water en Milieutechniek\":null,\"Kansrekening & Statistiek\":null,\"Constructie Mechanica 3\":null,\"Beton & Staalconstructies\":null,\"Dynamica van Systemen\":\"Natural frequency\",\"Grondmechanica\":null,\"Ontwerpen van Constructies & Funderingen 2\":null,\"Numerieke Wisunde\":null,\"Waterbouwkunde\":null,\"Hydrologie\":null},{\"Symbol\":\"$\\\\Omega$\",\"Name\":\"Omega\",\"Analyse\":null,\"Constructie Mechanica 1\":null,\"Inleiding Civiele & Milieutechniek\":null,\"Schone Watersystemen\":null,\"Integraal Ontwerpen\":null,\"Lineaire Algebra\":null,\"Constructie Mechanica 2\":null,\"Bouwmaterialen & Milieu\":null,\"Ontwerpen van Constructies & Funderingen 1\":null,\"Transport & Planning\":null,\"Differentiaalvergelijkingen\":null,\"Vloeistofmechanica\":null,\"Stedelijk Water en Milieutechniek\":null,\"Kansrekening & Statistiek\":\"Sample space\",\"Constructie Mechanica 3\":null,\"Beton & Staalconstructies\":null,\"Dynamica van Systemen\":null,\"Grondmechanica\":null,\"Ontwerpen van Constructies & Funderingen 2\":null,\"Numerieke Wisunde\":null,\"Waterbouwkunde\":null,\"Hydrologie\":null}]\n"
     ]
    }
   ],
   "source": [
    "import json\n",
    "df_json = df.reset_index().to_json(orient=\"records\")  # Use this string in the HTML\n",
    "print(df_json)"
   ]
  },
  {
   "cell_type": "markdown",
   "id": "1fe8902f",
   "metadata": {},
   "source": [
    "```{iframe} _static/glossary_greek.html\n",
    "```"
   ]
  }
 ],
 "metadata": {
  "kernelspec": {
   "display_name": "teachbooks",
   "language": "python",
   "name": "python3"
  },
  "language_info": {
   "codemirror_mode": {
    "name": "ipython",
    "version": 3
   },
   "file_extension": ".py",
   "mimetype": "text/x-python",
   "name": "python",
   "nbconvert_exporter": "python",
   "pygments_lexer": "ipython3",
   "version": "3.13.2"
  }
 },
 "nbformat": 4,
 "nbformat_minor": 5
}
