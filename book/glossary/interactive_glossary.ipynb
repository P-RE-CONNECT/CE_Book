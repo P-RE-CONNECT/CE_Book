{
 "cells": [
  {
   "cell_type": "code",
   "execution_count": 1,
   "id": "203df05f",
   "metadata": {},
   "outputs": [],
   "source": [
    "import pandas as pd\n",
    "from ipywidgets import widgets, interact\n",
    "from IPython.display import display, HTML"
   ]
  },
  {
   "cell_type": "markdown",
   "id": "64a9370b",
   "metadata": {},
   "source": [
    "# Loading in excel file"
   ]
  },
  {
   "cell_type": "code",
   "execution_count": null,
   "id": "bf95dffa",
   "metadata": {},
   "outputs": [
    {
     "data": {
      "text/html": [
       "<div>\n",
       "<style scoped>\n",
       "    .dataframe tbody tr th:only-of-type {\n",
       "        vertical-align: middle;\n",
       "    }\n",
       "\n",
       "    .dataframe tbody tr th {\n",
       "        vertical-align: top;\n",
       "    }\n",
       "\n",
       "    .dataframe thead th {\n",
       "        text-align: right;\n",
       "    }\n",
       "</style>\n",
       "<table border=\"1\" class=\"dataframe\">\n",
       "  <thead>\n",
       "    <tr style=\"text-align: right;\">\n",
       "      <th></th>\n",
       "      <th>Analyse</th>\n",
       "      <th>Constructie Mechanica 1</th>\n",
       "      <th>Inleiding Civiele &amp; Milieutechniek</th>\n",
       "      <th>Schone Watersystemen</th>\n",
       "      <th>Integraal Ontwerpen</th>\n",
       "      <th>Lineaire Algebra</th>\n",
       "      <th>Constructie Mechanica 2</th>\n",
       "      <th>Bouwmaterialen &amp; Milieu</th>\n",
       "      <th>Ontwerpen van Constructies &amp; Funderingen 1</th>\n",
       "      <th>Transport &amp; Planning</th>\n",
       "    </tr>\n",
       "    <tr>\n",
       "      <th>Symbol</th>\n",
       "      <th></th>\n",
       "      <th></th>\n",
       "      <th></th>\n",
       "      <th></th>\n",
       "      <th></th>\n",
       "      <th></th>\n",
       "      <th></th>\n",
       "      <th></th>\n",
       "      <th></th>\n",
       "      <th></th>\n",
       "    </tr>\n",
       "  </thead>\n",
       "  <tbody>\n",
       "    <tr>\n",
       "      <th>$a$</th>\n",
       "      <td>NaN</td>\n",
       "      <td>NaN</td>\n",
       "      <td>NaN</td>\n",
       "      <td>NaN</td>\n",
       "      <td>NaN</td>\n",
       "      <td>NaN</td>\n",
       "      <td>NaN</td>\n",
       "      <td>NaN</td>\n",
       "      <td>NaN</td>\n",
       "      <td>NaN</td>\n",
       "    </tr>\n",
       "    <tr>\n",
       "      <th>$A$</th>\n",
       "      <td>NaN</td>\n",
       "      <td>NaN</td>\n",
       "      <td>NaN</td>\n",
       "      <td>NaN</td>\n",
       "      <td>NaN</td>\n",
       "      <td>NaN</td>\n",
       "      <td>NaN</td>\n",
       "      <td>NaN</td>\n",
       "      <td>NaN</td>\n",
       "      <td>NaN</td>\n",
       "    </tr>\n",
       "    <tr>\n",
       "      <th>$b$</th>\n",
       "      <td>NaN</td>\n",
       "      <td>NaN</td>\n",
       "      <td>NaN</td>\n",
       "      <td>NaN</td>\n",
       "      <td>NaN</td>\n",
       "      <td>NaN</td>\n",
       "      <td>NaN</td>\n",
       "      <td>NaN</td>\n",
       "      <td>NaN</td>\n",
       "      <td>NaN</td>\n",
       "    </tr>\n",
       "    <tr>\n",
       "      <th>$c$</th>\n",
       "      <td>Damping coefficient</td>\n",
       "      <td>NaN</td>\n",
       "      <td>NaN</td>\n",
       "      <td>NaN</td>\n",
       "      <td>NaN</td>\n",
       "      <td>NaN</td>\n",
       "      <td>NaN</td>\n",
       "      <td>NaN</td>\n",
       "      <td>NaN</td>\n",
       "      <td>NaN</td>\n",
       "    </tr>\n",
       "    <tr>\n",
       "      <th>$C$</th>\n",
       "      <td>NaN</td>\n",
       "      <td>NaN</td>\n",
       "      <td>NaN</td>\n",
       "      <td>NaN</td>\n",
       "      <td>NaN</td>\n",
       "      <td>NaN</td>\n",
       "      <td>NaN</td>\n",
       "      <td>NaN</td>\n",
       "      <td>NaN</td>\n",
       "      <td>NaN</td>\n",
       "    </tr>\n",
       "    <tr>\n",
       "      <th>...</th>\n",
       "      <td>...</td>\n",
       "      <td>...</td>\n",
       "      <td>...</td>\n",
       "      <td>...</td>\n",
       "      <td>...</td>\n",
       "      <td>...</td>\n",
       "      <td>...</td>\n",
       "      <td>...</td>\n",
       "      <td>...</td>\n",
       "      <td>...</td>\n",
       "    </tr>\n",
       "    <tr>\n",
       "      <th>$W_{z}$</th>\n",
       "      <td>NaN</td>\n",
       "      <td>NaN</td>\n",
       "      <td>NaN</td>\n",
       "      <td>NaN</td>\n",
       "      <td>NaN</td>\n",
       "      <td>NaN</td>\n",
       "      <td>NaN</td>\n",
       "      <td>NaN</td>\n",
       "      <td>NaN</td>\n",
       "      <td>NaN</td>\n",
       "    </tr>\n",
       "    <tr>\n",
       "      <th>$W_{zz}$</th>\n",
       "      <td>NaN</td>\n",
       "      <td>NaN</td>\n",
       "      <td>NaN</td>\n",
       "      <td>NaN</td>\n",
       "      <td>NaN</td>\n",
       "      <td>NaN</td>\n",
       "      <td>NaN</td>\n",
       "      <td>NaN</td>\n",
       "      <td>NaN</td>\n",
       "      <td>NaN</td>\n",
       "    </tr>\n",
       "    <tr>\n",
       "      <th>$x_u$</th>\n",
       "      <td>NaN</td>\n",
       "      <td>NaN</td>\n",
       "      <td>NaN</td>\n",
       "      <td>NaN</td>\n",
       "      <td>NaN</td>\n",
       "      <td>NaN</td>\n",
       "      <td>NaN</td>\n",
       "      <td>NaN</td>\n",
       "      <td>NaN</td>\n",
       "      <td>NaN</td>\n",
       "    </tr>\n",
       "    <tr>\n",
       "      <th>$z$</th>\n",
       "      <td>NaN</td>\n",
       "      <td>NaN</td>\n",
       "      <td>NaN</td>\n",
       "      <td>NaN</td>\n",
       "      <td>NaN</td>\n",
       "      <td>NaN</td>\n",
       "      <td>NaN</td>\n",
       "      <td>NaN</td>\n",
       "      <td>NaN</td>\n",
       "      <td>NaN</td>\n",
       "    </tr>\n",
       "    <tr>\n",
       "      <th>$Z$</th>\n",
       "      <td>NaN</td>\n",
       "      <td>NaN</td>\n",
       "      <td>NaN</td>\n",
       "      <td>NaN</td>\n",
       "      <td>NaN</td>\n",
       "      <td>NaN</td>\n",
       "      <td>NaN</td>\n",
       "      <td>NaN</td>\n",
       "      <td>NaN</td>\n",
       "      <td>NaN</td>\n",
       "    </tr>\n",
       "  </tbody>\n",
       "</table>\n",
       "<p>71 rows × 10 columns</p>\n",
       "</div>"
      ],
      "text/plain": [
       "                      Analyse  Constructie Mechanica 1  \\\n",
       "Symbol                                                   \n",
       "$a$                       NaN                      NaN   \n",
       "$A$                       NaN                      NaN   \n",
       "$b$                       NaN                      NaN   \n",
       "$c$       Damping coefficient                      NaN   \n",
       "$C$                       NaN                      NaN   \n",
       "...                       ...                      ...   \n",
       "$W_{z}$                   NaN                      NaN   \n",
       "$W_{zz}$                  NaN                      NaN   \n",
       "$x_u$                     NaN                      NaN   \n",
       "$z$                       NaN                      NaN   \n",
       "$Z$                       NaN                      NaN   \n",
       "\n",
       "          Inleiding Civiele & Milieutechniek  Schone Watersystemen  \\\n",
       "Symbol                                                               \n",
       "$a$                                      NaN                   NaN   \n",
       "$A$                                      NaN                   NaN   \n",
       "$b$                                      NaN                   NaN   \n",
       "$c$                                      NaN                   NaN   \n",
       "$C$                                      NaN                   NaN   \n",
       "...                                      ...                   ...   \n",
       "$W_{z}$                                  NaN                   NaN   \n",
       "$W_{zz}$                                 NaN                   NaN   \n",
       "$x_u$                                    NaN                   NaN   \n",
       "$z$                                      NaN                   NaN   \n",
       "$Z$                                      NaN                   NaN   \n",
       "\n",
       "          Integraal Ontwerpen  Lineaire Algebra  Constructie Mechanica 2  \\\n",
       "Symbol                                                                     \n",
       "$a$                       NaN               NaN                      NaN   \n",
       "$A$                       NaN               NaN                      NaN   \n",
       "$b$                       NaN               NaN                      NaN   \n",
       "$c$                       NaN               NaN                      NaN   \n",
       "$C$                       NaN               NaN                      NaN   \n",
       "...                       ...               ...                      ...   \n",
       "$W_{z}$                   NaN               NaN                      NaN   \n",
       "$W_{zz}$                  NaN               NaN                      NaN   \n",
       "$x_u$                     NaN               NaN                      NaN   \n",
       "$z$                       NaN               NaN                      NaN   \n",
       "$Z$                       NaN               NaN                      NaN   \n",
       "\n",
       "          Bouwmaterialen & Milieu  Ontwerpen van Constructies & Funderingen 1  \\\n",
       "Symbol                                                                          \n",
       "$a$                           NaN                                         NaN   \n",
       "$A$                           NaN                                         NaN   \n",
       "$b$                           NaN                                         NaN   \n",
       "$c$                           NaN                                         NaN   \n",
       "$C$                           NaN                                         NaN   \n",
       "...                           ...                                         ...   \n",
       "$W_{z}$                       NaN                                         NaN   \n",
       "$W_{zz}$                      NaN                                         NaN   \n",
       "$x_u$                         NaN                                         NaN   \n",
       "$z$                           NaN                                         NaN   \n",
       "$Z$                           NaN                                         NaN   \n",
       "\n",
       "          Transport & Planning  \n",
       "Symbol                          \n",
       "$a$                        NaN  \n",
       "$A$                        NaN  \n",
       "$b$                        NaN  \n",
       "$c$                        NaN  \n",
       "$C$                        NaN  \n",
       "...                        ...  \n",
       "$W_{z}$                    NaN  \n",
       "$W_{zz}$                   NaN  \n",
       "$x_u$                      NaN  \n",
       "$z$                        NaN  \n",
       "$Z$                        NaN  \n",
       "\n",
       "[71 rows x 10 columns]"
      ]
     },
     "metadata": {},
     "output_type": "display_data"
    }
   ],
   "source": [
    "# Load the glossary from xlsx\n",
    "glossary_CT_Greek = pd.read_excel(\"Glossary_CT.xlsx\", skiprows=1, index_col=0, sheet_name=0)\n",
    "glossary_CT_Math = pd.read_excel(\"Glossary_CT.xlsx\", skiprows=0, index_col=0, sheet_name=1)\n",
    "glossary_CT_Latin = pd.read_excel(\"Glossary_CT.xlsx\", skiprows=1, index_col=0, sheet_name=2)"
   ]
  },
  {
   "cell_type": "markdown",
   "id": "3d09f080",
   "metadata": {},
   "source": [
    "# Selection of one course with Plotly"
   ]
  },
  {
   "cell_type": "code",
   "execution_count": 18,
   "id": "04d14288",
   "metadata": {
    "tags": [
     "remove-input"
    ]
   },
   "outputs": [
    {
     "data": {
      "text/html": [
       "<h3>📚 Interactive Glossary of Symbols and Course Descriptions</h3>"
      ],
      "text/plain": [
       "<IPython.core.display.HTML object>"
      ]
     },
     "metadata": {},
     "output_type": "display_data"
    },
    {
     "data": {
      "text/html": [
       "<p>Select a course to filter the symbols and their meanings for that specific course:</p>"
      ],
      "text/plain": [
       "<IPython.core.display.HTML object>"
      ]
     },
     "metadata": {},
     "output_type": "display_data"
    },
    {
     "data": {
      "application/vnd.jupyter.widget-view+json": {
       "model_id": "3484254526914701ae571e82a2cc0119",
       "version_major": 2,
       "version_minor": 0
      },
      "text/plain": [
       "interactive(children=(Dropdown(description='Course:', options=('All', 'Analyse', 'Constructie Mechanica 1', 'I…"
      ]
     },
     "metadata": {},
     "output_type": "display_data"
    }
   ],
   "source": [
    "# Display styling\n",
    "display(HTML(\"<h3>📚 Interactive Glossary of Symbols and Course Descriptions</h3>\"))\n",
    "display(HTML(\"<p>Select a course to filter the symbols and their meanings for that specific course:</p>\"))\n",
    "\n",
    "# Create a dropdown for course selection\n",
    "courses = glossary_CT_Latin.columns\n",
    "dropdown = widgets.Dropdown(\n",
    "    options=['All'] + list(courses),\n",
    "    value='All',\n",
    "    description='Course:',\n",
    ")\n",
    "\n",
    "# Function to filter the DataFrame based on the dropdown selection\n",
    "def filter_glossary(course):\n",
    "    display(HTML(\"<h4>Filtered Glossary:</h4>\"))\n",
    "    if course == 'All':\n",
    "        display(glossary_CT_Latin.fillna(''))\n",
    "    else:\n",
    "        filtered_df = pd.DataFrame(glossary_CT_Latin[course].dropna())\n",
    "        display(filtered_df)\n",
    "\n",
    "# Link the dropdown to the filtering function\n",
    "interact(filter_glossary, course=dropdown);"
   ]
  },
  {
   "cell_type": "markdown",
   "id": "bc4e6ca0",
   "metadata": {},
   "source": [
    "# Selection of multiple courses with Plotly"
   ]
  },
  {
   "cell_type": "code",
   "execution_count": 20,
   "id": "4fc607ba",
   "metadata": {},
   "outputs": [
    {
     "data": {
      "text/html": [
       "<h3>📚 Interactive Glossary of Symbols and Course Descriptions</h3>"
      ],
      "text/plain": [
       "<IPython.core.display.HTML object>"
      ]
     },
     "metadata": {},
     "output_type": "display_data"
    },
    {
     "data": {
      "text/html": [
       "<p>Select one or more courses to filter the symbols and their meanings:</p>"
      ],
      "text/plain": [
       "<IPython.core.display.HTML object>"
      ]
     },
     "metadata": {},
     "output_type": "display_data"
    },
    {
     "data": {
      "application/vnd.jupyter.widget-view+json": {
       "model_id": "f2b3cf2ce469400fa7f6e707fd4f88e3",
       "version_major": 2,
       "version_minor": 0
      },
      "text/plain": [
       "interactive(children=(SelectMultiple(description='Courses:', layout=Layout(height='200px', width='30%'), optio…"
      ]
     },
     "metadata": {},
     "output_type": "display_data"
    }
   ],
   "source": [
    "# Display styling\n",
    "display(HTML(\"<h3>📚 Interactive Glossary of Symbols and Course Descriptions</h3>\"))\n",
    "display(HTML(\"<p>Select one or more courses to filter the symbols and their meanings:</p>\"))\n",
    "\n",
    "# Create a multi-select widget for course selection\n",
    "courses = glossary_CT_Latin.columns\n",
    "multi_select = widgets.SelectMultiple(\n",
    "    options=list(courses),\n",
    "    value=[],\n",
    "    description='Courses:',\n",
    "    layout={'width': '30%', 'height': '200px'},\n",
    ")\n",
    "\n",
    "# Function to filter the DataFrame based on the dropdown selection\n",
    "def filter_glossary(selected_courses):\n",
    "    display(HTML(\"<h4>Filtered Glossary:</h4>\"))\n",
    "    \n",
    "    if not selected_courses:\n",
    "        display(HTML(\"<p>No courses selected.</p>\"))\n",
    "        return\n",
    "    \n",
    "    # Collect all symbols and descriptions from the selected courses\n",
    "    filtered_dfs = []\n",
    "    for course in selected_courses:\n",
    "        filtered_df = pd.DataFrame(glossary_CT_Latin[course].dropna())\n",
    "        filtered_df.columns = [f'{course} Description']\n",
    "        filtered_dfs.append(filtered_df)\n",
    "    \n",
    "    # Merge all selected courses into one table\n",
    "    result_df = pd.concat(filtered_dfs, axis=1).fillna('')\n",
    "    display(result_df)\n",
    "\n",
    "# Link the multi-select to the filtering function\n",
    "interact(filter_glossary, selected_courses=multi_select);\n"
   ]
  },
  {
   "cell_type": "code",
   "execution_count": null,
   "id": "0584ac4c",
   "metadata": {},
   "outputs": [],
   "source": []
  }
 ],
 "metadata": {
  "kernelspec": {
   "display_name": "jupbook",
   "language": "python",
   "name": "python3"
  },
  "language_info": {
   "codemirror_mode": {
    "name": "ipython",
    "version": 3
   },
   "file_extension": ".py",
   "mimetype": "text/x-python",
   "name": "python",
   "nbconvert_exporter": "python",
   "pygments_lexer": "ipython3",
   "version": "3.13.2"
  }
 },
 "nbformat": 4,
 "nbformat_minor": 5
}
